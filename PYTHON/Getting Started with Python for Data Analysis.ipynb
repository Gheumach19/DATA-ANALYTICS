{
 "cells": [
  {
   "cell_type": "markdown",
   "id": "a84cd9ae-6322-40bd-bf9f-6e96090a6570",
   "metadata": {},
   "source": [
    "## Real- World Use Case: Small Supermarket Analysis"
   ]
  },
  {
   "cell_type": "code",
   "execution_count": 1,
   "id": "478fb95c-f733-4368-8279-8ed35a412fcf",
   "metadata": {},
   "outputs": [
    {
     "name": "stdout",
     "output_type": "stream",
     "text": [
      "Libraries imported successfully!\n"
     ]
    }
   ],
   "source": [
    "# Step 1: Import libraries\n",
    "import pandas as pd \n",
    "import numpy as np \n",
    "import matplotlib.pyplot as plt \n",
    "import seaborn as sns \n",
    "# Step 2: Ready to analyze!\n",
    "\n",
    "print(\"Libraries imported successfully!\") "
   ]
  },
  {
   "cell_type": "code",
   "execution_count": 3,
   "id": "5e99e021-27de-4a94-99ef-a34c15aa48ca",
   "metadata": {},
   "outputs": [
    {
     "name": "stdout",
     "output_type": "stream",
     "text": [
      " Setting up our data analysis environment...\n",
      " All libraries imported successfully!\n"
     ]
    }
   ],
   "source": [
    "# === STEP 1: Import all necessary libraries ===\n",
    "print(\" Setting up our data analysis environment...\")\n",
    "\n",
    "import pandas as pd\n",
    "import numpy as np\n",
    "import matplotlib.pyplot as plt\n",
    "import seaborn as sns\n",
    "\n",
    "print(\" All libraries imported successfully!\")"
   ]
  },
  {
   "cell_type": "code",
   "execution_count": 4,
   "id": "c0fc32e3-ebe8-4ef6-b7b8-ac787653716b",
   "metadata": {},
   "outputs": [
    {
     "name": "stdout",
     "output_type": "stream",
     "text": [
      "📊 Pandas version: 2.2.3\n",
      "🔢 Numpy version: 2.1.3\n",
      "🎨 Matplotlib and Seaborn are ready for visualization!\n"
     ]
    }
   ],
   "source": [
    "# === STEP 2: Test that everything works ===\n",
    "print(f\"📊 Pandas version: {pd.__version__}\")\n",
    "print(f\"🔢 Numpy version: {np.__version__}\")\n",
    "print(\"🎨 Matplotlib and Seaborn are ready for visualization!\")"
   ]
  },
  {
   "cell_type": "code",
   "execution_count": 14,
   "id": "a7cd7819-0705-4e9b-9782-4b0ce26e2e2e",
   "metadata": {},
   "outputs": [
    {
     "name": "stdout",
     "output_type": "stream",
     "text": [
      "\n",
      " Sample supermarket data:\n",
      "   Product  Sales  Profit\n",
      "0   Apples    150      45\n",
      "1  Bananas    200      80\n",
      "2  Oranges    120      36\n",
      "3    Bread    300      90\n",
      "4     Milk    250      75\n",
      "\n",
      " DataFrame created is successfully ready for analysis!\n"
     ]
    }
   ],
   "source": [
    "# === STEP 3: Create a simple example ===\n",
    "# Let's create some sample data to prove everything works\n",
    "sample_data = {\n",
    "'Product': ['Apples', 'Bananas', 'Oranges', 'Bread', 'Milk'],\n",
    "'Sales': [150, 200, 120, 300, 250],\n",
    "'Profit': [45, 80, 36, 90, 75]\n",
    "}\n",
    "# Convert to a pandas DataFrame (think of it as a smart table)\n",
    "df = pd.DataFrame(sample_data)\n",
    "print(\"\\n Sample supermarket data:\")\n",
    "print(df)\n",
    "print(\"\\n DataFrame created is successfully ready for analysis!\")"
   ]
  },
  {
   "cell_type": "code",
   "execution_count": 15,
   "id": "d76bc616-ad99-4137-8ba6-aa08c4f2cf5b",
   "metadata": {},
   "outputs": [
    {
     "data": {
      "text/html": [
       "<div>\n",
       "<style scoped>\n",
       "    .dataframe tbody tr th:only-of-type {\n",
       "        vertical-align: middle;\n",
       "    }\n",
       "\n",
       "    .dataframe tbody tr th {\n",
       "        vertical-align: top;\n",
       "    }\n",
       "\n",
       "    .dataframe thead th {\n",
       "        text-align: right;\n",
       "    }\n",
       "</style>\n",
       "<table border=\"1\" class=\"dataframe\">\n",
       "  <thead>\n",
       "    <tr style=\"text-align: right;\">\n",
       "      <th></th>\n",
       "      <th>Product</th>\n",
       "      <th>Sales</th>\n",
       "      <th>Profit</th>\n",
       "    </tr>\n",
       "  </thead>\n",
       "  <tbody>\n",
       "    <tr>\n",
       "      <th>0</th>\n",
       "      <td>Apples</td>\n",
       "      <td>150</td>\n",
       "      <td>45</td>\n",
       "    </tr>\n",
       "    <tr>\n",
       "      <th>1</th>\n",
       "      <td>Bananas</td>\n",
       "      <td>200</td>\n",
       "      <td>80</td>\n",
       "    </tr>\n",
       "    <tr>\n",
       "      <th>2</th>\n",
       "      <td>Oranges</td>\n",
       "      <td>120</td>\n",
       "      <td>36</td>\n",
       "    </tr>\n",
       "    <tr>\n",
       "      <th>3</th>\n",
       "      <td>Bread</td>\n",
       "      <td>300</td>\n",
       "      <td>90</td>\n",
       "    </tr>\n",
       "  </tbody>\n",
       "</table>\n",
       "</div>"
      ],
      "text/plain": [
       "   Product  Sales  Profit\n",
       "0   Apples    150      45\n",
       "1  Bananas    200      80\n",
       "2  Oranges    120      36\n",
       "3    Bread    300      90"
      ]
     },
     "execution_count": 15,
     "metadata": {},
     "output_type": "execute_result"
    }
   ],
   "source": [
    "df.head(4)"
   ]
  },
  {
   "cell_type": "code",
   "execution_count": 18,
   "id": "ca77f635-a5cd-438d-a260-46f59a6bc783",
   "metadata": {},
   "outputs": [
    {
     "name": "stdout",
     "output_type": "stream",
     "text": [
      "Success! All libraries imported correctly!\n"
     ]
    }
   ],
   "source": [
    "## mini assignment\n",
    "import pandas as pd\n",
    "import numpy as np\n",
    "import matplotlib.pyplot as plt\n",
    "import seaborn as sns\n",
    "\n",
    "print(\"Success! All libraries imported correctly!\")"
   ]
  },
  {
   "cell_type": "code",
   "execution_count": 26,
   "id": "dfd8d388-085b-424e-b8b9-05ab62a6ff17",
   "metadata": {},
   "outputs": [
    {
     "name": "stdout",
     "output_type": "stream",
     "text": [
      "\n",
      " Sales data:\n",
      "         Product  Sales  Profit\n",
      "0         Laptop  25000    2000\n",
      "1   Mobile Phone  10000    1800\n",
      "2  Pair of jeans   2800     400\n",
      "3          Shoes   2500     500\n",
      "4            Bag    600     200\n",
      "5          Books    500     150\n",
      "\n",
      " It was precise but costly shopping!\n"
     ]
    }
   ],
   "source": [
    "sales_data = {'Product': ['Laptop', 'Mobile Phone', 'Pair of jeans', 'Shoes', 'Bag','Books'],\n",
    "                 'Sales': [25000, 10000,2800,2500,600,500],\n",
    "                 'Profit': [2000,1800,400,500,200,150]}\n",
    "\n",
    "df = pd.DataFrame(shopping_list)\n",
    "print(\"\\n Sales data:\")\n",
    "print(df)\n",
    "print(\"\\n It was precise but costly shopping!\")                \n"
   ]
  },
  {
   "cell_type": "code",
   "execution_count": 24,
   "id": "67dd6620-e446-492d-b46b-2d4bc2626ed8",
   "metadata": {},
   "outputs": [
    {
     "data": {
      "text/html": [
       "<div>\n",
       "<style scoped>\n",
       "    .dataframe tbody tr th:only-of-type {\n",
       "        vertical-align: middle;\n",
       "    }\n",
       "\n",
       "    .dataframe tbody tr th {\n",
       "        vertical-align: top;\n",
       "    }\n",
       "\n",
       "    .dataframe thead th {\n",
       "        text-align: right;\n",
       "    }\n",
       "</style>\n",
       "<table border=\"1\" class=\"dataframe\">\n",
       "  <thead>\n",
       "    <tr style=\"text-align: right;\">\n",
       "      <th></th>\n",
       "      <th>Product</th>\n",
       "      <th>Sales</th>\n",
       "      <th>Profit</th>\n",
       "    </tr>\n",
       "  </thead>\n",
       "  <tbody>\n",
       "    <tr>\n",
       "      <th>0</th>\n",
       "      <td>Laptop</td>\n",
       "      <td>25000</td>\n",
       "      <td>2000</td>\n",
       "    </tr>\n",
       "    <tr>\n",
       "      <th>1</th>\n",
       "      <td>Mobile Phone</td>\n",
       "      <td>10000</td>\n",
       "      <td>1800</td>\n",
       "    </tr>\n",
       "    <tr>\n",
       "      <th>2</th>\n",
       "      <td>Pair of jeans</td>\n",
       "      <td>2800</td>\n",
       "      <td>400</td>\n",
       "    </tr>\n",
       "  </tbody>\n",
       "</table>\n",
       "</div>"
      ],
      "text/plain": [
       "         Product  Sales  Profit\n",
       "0         Laptop  25000    2000\n",
       "1   Mobile Phone  10000    1800\n",
       "2  Pair of jeans   2800     400"
      ]
     },
     "execution_count": 24,
     "metadata": {},
     "output_type": "execute_result"
    }
   ],
   "source": [
    "df.head(3)"
   ]
  },
  {
   "cell_type": "code",
   "execution_count": 25,
   "id": "882d6974-e569-45cc-899b-6a4bbfaf481c",
   "metadata": {},
   "outputs": [
    {
     "data": {
      "text/html": [
       "<div>\n",
       "<style scoped>\n",
       "    .dataframe tbody tr th:only-of-type {\n",
       "        vertical-align: middle;\n",
       "    }\n",
       "\n",
       "    .dataframe tbody tr th {\n",
       "        vertical-align: top;\n",
       "    }\n",
       "\n",
       "    .dataframe thead th {\n",
       "        text-align: right;\n",
       "    }\n",
       "</style>\n",
       "<table border=\"1\" class=\"dataframe\">\n",
       "  <thead>\n",
       "    <tr style=\"text-align: right;\">\n",
       "      <th></th>\n",
       "      <th>Product</th>\n",
       "      <th>Sales</th>\n",
       "      <th>Profit</th>\n",
       "    </tr>\n",
       "  </thead>\n",
       "  <tbody>\n",
       "    <tr>\n",
       "      <th>3</th>\n",
       "      <td>Shoes</td>\n",
       "      <td>2500</td>\n",
       "      <td>500</td>\n",
       "    </tr>\n",
       "    <tr>\n",
       "      <th>4</th>\n",
       "      <td>Bag</td>\n",
       "      <td>600</td>\n",
       "      <td>200</td>\n",
       "    </tr>\n",
       "    <tr>\n",
       "      <th>5</th>\n",
       "      <td>Books</td>\n",
       "      <td>500</td>\n",
       "      <td>150</td>\n",
       "    </tr>\n",
       "  </tbody>\n",
       "</table>\n",
       "</div>"
      ],
      "text/plain": [
       "  Product  Sales  Profit\n",
       "3   Shoes   2500     500\n",
       "4     Bag    600     200\n",
       "5   Books    500     150"
      ]
     },
     "execution_count": 25,
     "metadata": {},
     "output_type": "execute_result"
    }
   ],
   "source": [
    "df.tail(3)"
   ]
  },
  {
   "cell_type": "code",
   "execution_count": null,
   "id": "4e195a73-d8ac-4733-af80-5ca1d561748c",
   "metadata": {},
   "outputs": [],
   "source": []
  }
 ],
 "metadata": {
  "kernelspec": {
   "display_name": "Python 3 (ipykernel)",
   "language": "python",
   "name": "python3"
  },
  "language_info": {
   "codemirror_mode": {
    "name": "ipython",
    "version": 3
   },
   "file_extension": ".py",
   "mimetype": "text/x-python",
   "name": "python",
   "nbconvert_exporter": "python",
   "pygments_lexer": "ipython3",
   "version": "3.13.5"
  }
 },
 "nbformat": 4,
 "nbformat_minor": 5
}
