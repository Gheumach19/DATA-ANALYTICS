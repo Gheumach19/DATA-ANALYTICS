{
 "cells": [
  {
   "cell_type": "code",
   "execution_count": 4,
   "id": "944660ef-53e1-44f6-87ae-c261ff69e546",
   "metadata": {},
   "outputs": [
    {
     "name": "stdin",
     "output_type": "stream",
     "text": [
      "Enter number: 7\n"
     ]
    },
    {
     "name": "stdout",
     "output_type": "stream",
     "text": [
      "Odd number\n"
     ]
    }
   ],
   "source": [
    "# Ask the user to enter a number. Determine if it's even or odd, and print the result.\n",
    "number= int(input('Enter number:'))\n",
    "if number % 2== 0:\n",
    "    print(\"Even number\")\n",
    "else:\n",
    "    print(\"Odd number\")\n",
    "          "
   ]
  },
  {
   "cell_type": "code",
   "execution_count": 16,
   "id": "99184a3c-12b0-4303-b811-ca6221d54b5e",
   "metadata": {},
   "outputs": [
    {
     "name": "stdin",
     "output_type": "stream",
     "text": [
      "Enter a score (0–100):  78\n"
     ]
    },
    {
     "name": "stdout",
     "output_type": "stream",
     "text": [
      "Grade: C\n"
     ]
    }
   ],
   "source": [
    "# Ask the user to enter a score (0–100). Then classify it:90–100: A,80–89: B,70–79: C,60–69: D,Below 60: Fail\n",
    "\n",
    "student_score = int(input(\"Enter a score (0–100): \"))\n",
    "\n",
    "if 90 <= student_score <= 100:\n",
    "    print(\"Grade: A\")\n",
    "elif 80 <= student_score <= 89:\n",
    "    print(\"Grade: B\")\n",
    "elif 70 <= student_score <= 79:\n",
    "    print(\"Grade: C\")\n",
    "elif 60 <= student_score <= 69:\n",
    "    print(\"Grade: D\")\n",
    "elif 0 <= student_score < 60:\n",
    "    print(\"Grade: Fail\")\n",
    "else:\n",
    "    print(\"Please enter a number between 0 and 100!\")\n",
    "\n"
   ]
  },
  {
   "cell_type": "code",
   "execution_count": 20,
   "id": "2b446274-9a9a-4c59-90ad-c2ee4f2f6f8d",
   "metadata": {},
   "outputs": [
    {
     "name": "stdin",
     "output_type": "stream",
     "text": [
      "Enter customer type (regular or new):  regular\n",
      "Enter purchase amount (KES):  24000\n"
     ]
    },
    {
     "name": "stdout",
     "output_type": "stream",
     "text": [
      "Discount applied: 25%\n",
      "Discount amount: KES 6000.00\n",
      "Final price to pay: KES 18000.00\n"
     ]
    }
   ],
   "source": [
    "# Customer Discount Checker\n",
    "customer_type = input(\"Enter customer type (regular or new): \").strip().lower()\n",
    "purchase_amount = float(input(\"Enter purchase amount (KES): \"))\n",
    "\n",
    "# Initialize discount\n",
    "discount = 0\n",
    "\n",
    "# Logic to determine discount\n",
    "if customer_type == \"new\" and purchase_amount > 8000:\n",
    "    discount = 0.50\n",
    "elif customer_type == \"regular\" and purchase_amount > 10000:\n",
    "    discount = 0.25\n",
    "\n",
    "# Calculate discount amount and final price\n",
    "discount_amount = purchase_amount * discount\n",
    "final_price = purchase_amount - discount_amount\n",
    "\n",
    "# Output the result\n",
    "if discount > 0:\n",
    "    print(f\"Discount applied: {int(discount * 100)}%\")\n",
    "    print(f\"Discount amount: KES {discount_amount:.2f}\")\n",
    "else:\n",
    "    print(\"No discount applied.\")\n",
    "\n",
    "print(f\"Final price to pay: KES {final_price:.2f}\")\n"
   ]
  },
  {
   "cell_type": "code",
   "execution_count": 23,
   "id": "3ff49b06-9dc2-4977-a9b5-7b52ad9d1785",
   "metadata": {},
   "outputs": [
    {
     "name": "stdin",
     "output_type": "stream",
     "text": [
      "Enter age:  17\n"
     ]
    },
    {
     "name": "stdout",
     "output_type": "stream",
     "text": [
      "Access Denied\n"
     ]
    }
   ],
   "source": [
    "# Simple Age Access Checker\n",
    "age= int(input('Enter age: '))\n",
    "if age < 18:\n",
    "    print('Access Denied')\n",
    "else:\n",
    "    print('Access Granted')"
   ]
  },
  {
   "cell_type": "code",
   "execution_count": 26,
   "id": "4872e09a-2433-4e81-85e7-d5cf6b2e4ea5",
   "metadata": {},
   "outputs": [
    {
     "name": "stdin",
     "output_type": "stream",
     "text": [
      "Enter age:  24\n",
      "Monthly income:  15000\n"
     ]
    },
    {
     "name": "stdout",
     "output_type": "stream",
     "text": [
      "Eligible for scholarship\n"
     ]
    }
   ],
   "source": [
    "# Scholarship Eligibility Checker\n",
    "age = int(input('Enter age: '))\n",
    "monthly_income = float(input('Monthly income: '))  \n",
    "\n",
    "if age < 25 and monthly_income < 20000:\n",
    "    print('Eligible for scholarship')\n",
    "else:\n",
    "    print('Not eligible')\n"
   ]
  },
  {
   "cell_type": "code",
   "execution_count": 33,
   "id": "b0d1f698-e497-4652-82bb-11529b1327fa",
   "metadata": {},
   "outputs": [
    {
     "name": "stdin",
     "output_type": "stream",
     "text": [
      "Do you have an account? (Yes/No):  No\n"
     ]
    },
    {
     "name": "stdout",
     "output_type": "stream",
     "text": [
      "Please register to continue\n"
     ]
    }
   ],
   "source": [
    "# Account Check with `not`\n",
    "account = input(\"Do you have an account? (Yes/No): \")\n",
    "\n",
    "if not account == 'Yes' 'No':\n",
    "    print('Please register to continue')\n",
    "\n"
   ]
  },
  {
   "cell_type": "code",
   "execution_count": null,
   "id": "24573e4d-1a8d-4e51-ae31-2619d427aa07",
   "metadata": {},
   "outputs": [],
   "source": []
  }
 ],
 "metadata": {
  "kernelspec": {
   "display_name": "Python [conda env:base] *",
   "language": "python",
   "name": "conda-base-py"
  },
  "language_info": {
   "codemirror_mode": {
    "name": "ipython",
    "version": 3
   },
   "file_extension": ".py",
   "mimetype": "text/x-python",
   "name": "python",
   "nbconvert_exporter": "python",
   "pygments_lexer": "ipython3",
   "version": "3.13.5"
  }
 },
 "nbformat": 4,
 "nbformat_minor": 5
}
