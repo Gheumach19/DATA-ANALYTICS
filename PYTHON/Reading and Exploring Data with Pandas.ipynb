{
 "cells": [
  {
   "cell_type": "markdown",
   "id": "74bd7f05-5004-434b-b077-9903c6986b75",
   "metadata": {},
   "source": [
    "# Reading and Exploring Data with Pandas"
   ]
  },
  {
   "cell_type": "code",
   "execution_count": 1,
   "id": "ac094ec7-9fcd-4e8f-8cf9-d9d49eba63ef",
   "metadata": {},
   "outputs": [
    {
     "name": "stdout",
     "output_type": "stream",
     "text": [
      "pandas imported successfully\n"
     ]
    }
   ],
   "source": [
    "# importing libraries\n",
    "\n",
    "import pandas as pd\n",
    "print(\"pandas imported successfully\")"
   ]
  },
  {
   "cell_type": "markdown",
   "id": "becb0779-9236-41f6-885f-187d00c667de",
   "metadata": {},
   "source": [
    "## 1. Loading CSV file"
   ]
  },
  {
   "cell_type": "code",
   "execution_count": 5,
   "id": "92f2c714-238f-42c2-a24f-3e317a4d592c",
   "metadata": {},
   "outputs": [
    {
     "name": "stdout",
     "output_type": "stream",
     "text": [
      "Data loaded successfully!\n"
     ]
    }
   ],
   "source": [
    "# Method 1: Load from a local file on your computer\n",
    "df = pd.read_csv('datasets\\sales_data.csv')\n",
    "print(\"Data loaded successfully!\")"
   ]
  },
  {
   "cell_type": "code",
   "execution_count": 7,
   "id": "efe5409f-bd55-4439-a04e-a6158a430626",
   "metadata": {},
   "outputs": [
    {
     "name": "stdout",
     "output_type": "stream",
     "text": [
      "Data loaded successfully!\n"
     ]
    }
   ],
   "source": [
    "# Method 3: Load with extra options (we'll explain these)\n",
    "df = pd.read_csv('datasets\\sales_data.csv',\n",
    "                  encoding='utf-8', \n",
    "                  sep=',')\n",
    "print(\"Data loaded successfully!\")"
   ]
  },
  {
   "cell_type": "markdown",
   "id": "c60681a9-8619-4f4c-ae10-df91aa38d6cc",
   "metadata": {},
   "source": [
    "## 2. Loading excel file"
   ]
  },
  {
   "cell_type": "code",
   "execution_count": 9,
   "id": "605de657-4e91-487d-8e06-2f37928e0676",
   "metadata": {},
   "outputs": [
    {
     "name": "stdout",
     "output_type": "stream",
     "text": [
      "Excel file loaded successfully!\n"
     ]
    }
   ],
   "source": [
    "# Load an Excel file (.xlsx or .xls)\n",
    "df = pd.read_excel('datasets\\student_grades.xlsx')\n",
    "print(\"Excel file loaded successfully!\")"
   ]
  },
  {
   "cell_type": "code",
   "execution_count": 10,
   "id": "2aa4a7c5-5b76-43c4-aaa5-57fd15c4beab",
   "metadata": {},
   "outputs": [
    {
     "name": "stdout",
     "output_type": "stream",
     "text": [
      "Excel file loaded successfully!\n"
     ]
    }
   ],
   "source": [
    "# Load an Excel file (.xlsx or .xls)\n",
    "df = pd.read_excel('datasets\\monthly_reports.xlsx')\n",
    "print(\"Excel file loaded successfully!\")"
   ]
  },
  {
   "cell_type": "code",
   "execution_count": 13,
   "id": "9087f0e1-deb3-428d-9559-f598b19f5a12",
   "metadata": {},
   "outputs": [
    {
     "name": "stdout",
     "output_type": "stream",
     "text": [
      "Excel file loaded successfully!\n"
     ]
    }
   ],
   "source": [
    "# Load a specific sheet from an Excel workbook\n",
    "\n",
    "df = pd.read_excel('datasets\\monthly_reports.xlsx', sheet_name='January')\n",
    "print(\"Excel file loaded successfully!\")"
   ]
  },
  {
   "cell_type": "code",
   "execution_count": 14,
   "id": "ac413384-0aa6-4767-bf40-ebbbd836ff54",
   "metadata": {},
   "outputs": [
    {
     "name": "stdout",
     "output_type": "stream",
     "text": [
      "Excel file loaded successfully!\n"
     ]
    }
   ],
   "source": [
    "df = pd.read_excel('datasets\\monthly_reports.xlsx', sheet_name='February')\n",
    "print(\"Excel file loaded successfully!\")"
   ]
  },
  {
   "cell_type": "markdown",
   "id": "b2cf2bc2-efd4-45cb-b8c7-312ce0c9cd3c",
   "metadata": {},
   "source": [
    "# 2. Exploring DataFrames"
   ]
  },
  {
   "cell_type": "code",
   "execution_count": 17,
   "id": "0e4e62b1-9de3-45bf-b146-43d26e11bb62",
   "metadata": {},
   "outputs": [
    {
     "name": "stdout",
     "output_type": "stream",
     "text": [
      "Loaded successfully\n"
     ]
    }
   ],
   "source": [
    "# load sales data\n",
    "df= pd.read_csv('datasets\\sales_data.csv')\n",
    "print('Loaded successfully')"
   ]
  },
  {
   "cell_type": "code",
   "execution_count": 18,
   "id": "3770398d-bcdf-420f-87b1-f3180fb92944",
   "metadata": {},
   "outputs": [
    {
     "name": "stdout",
     "output_type": "stream",
     "text": [
      "show the first 5 rows\n"
     ]
    },
    {
     "data": {
      "text/html": [
       "<div>\n",
       "<style scoped>\n",
       "    .dataframe tbody tr th:only-of-type {\n",
       "        vertical-align: middle;\n",
       "    }\n",
       "\n",
       "    .dataframe tbody tr th {\n",
       "        vertical-align: top;\n",
       "    }\n",
       "\n",
       "    .dataframe thead th {\n",
       "        text-align: right;\n",
       "    }\n",
       "</style>\n",
       "<table border=\"1\" class=\"dataframe\">\n",
       "  <thead>\n",
       "    <tr style=\"text-align: right;\">\n",
       "      <th></th>\n",
       "      <th>Date</th>\n",
       "      <th>Product</th>\n",
       "      <th>Category</th>\n",
       "      <th>Price</th>\n",
       "      <th>Quantity</th>\n",
       "      <th>Customer_Type</th>\n",
       "    </tr>\n",
       "  </thead>\n",
       "  <tbody>\n",
       "    <tr>\n",
       "      <th>0</th>\n",
       "      <td>2024-02-11</td>\n",
       "      <td>Croissant</td>\n",
       "      <td>Food</td>\n",
       "      <td>2.87</td>\n",
       "      <td>5</td>\n",
       "      <td>New</td>\n",
       "    </tr>\n",
       "    <tr>\n",
       "      <th>1</th>\n",
       "      <td>2024-01-07</td>\n",
       "      <td>Bagel</td>\n",
       "      <td>Food</td>\n",
       "      <td>2.40</td>\n",
       "      <td>5</td>\n",
       "      <td>New</td>\n",
       "    </tr>\n",
       "    <tr>\n",
       "      <th>2</th>\n",
       "      <td>2024-01-29</td>\n",
       "      <td>Mocha</td>\n",
       "      <td>Beverage</td>\n",
       "      <td>5.32</td>\n",
       "      <td>2</td>\n",
       "      <td>New</td>\n",
       "    </tr>\n",
       "    <tr>\n",
       "      <th>3</th>\n",
       "      <td>2024-02-14</td>\n",
       "      <td>Americano</td>\n",
       "      <td>Beverage</td>\n",
       "      <td>4.25</td>\n",
       "      <td>2</td>\n",
       "      <td>New</td>\n",
       "    </tr>\n",
       "    <tr>\n",
       "      <th>4</th>\n",
       "      <td>2024-02-21</td>\n",
       "      <td>Mocha</td>\n",
       "      <td>Beverage</td>\n",
       "      <td>3.15</td>\n",
       "      <td>1</td>\n",
       "      <td>Regular</td>\n",
       "    </tr>\n",
       "  </tbody>\n",
       "</table>\n",
       "</div>"
      ],
      "text/plain": [
       "         Date    Product  Category  Price  Quantity Customer_Type\n",
       "0  2024-02-11  Croissant      Food   2.87         5           New\n",
       "1  2024-01-07      Bagel      Food   2.40         5           New\n",
       "2  2024-01-29      Mocha  Beverage   5.32         2           New\n",
       "3  2024-02-14  Americano  Beverage   4.25         2           New\n",
       "4  2024-02-21      Mocha  Beverage   3.15         1       Regular"
      ]
     },
     "execution_count": 18,
     "metadata": {},
     "output_type": "execute_result"
    }
   ],
   "source": [
    "print('show the first 5 rows')\n",
    "df.head(5)"
   ]
  },
  {
   "cell_type": "code",
   "execution_count": 22,
   "id": "6fed8240-a69d-4813-afff-57d5a7a20c51",
   "metadata": {},
   "outputs": [
    {
     "name": "stdout",
     "output_type": "stream",
     "text": [
      "last 5 rows\n"
     ]
    },
    {
     "data": {
      "text/html": [
       "<div>\n",
       "<style scoped>\n",
       "    .dataframe tbody tr th:only-of-type {\n",
       "        vertical-align: middle;\n",
       "    }\n",
       "\n",
       "    .dataframe tbody tr th {\n",
       "        vertical-align: top;\n",
       "    }\n",
       "\n",
       "    .dataframe thead th {\n",
       "        text-align: right;\n",
       "    }\n",
       "</style>\n",
       "<table border=\"1\" class=\"dataframe\">\n",
       "  <thead>\n",
       "    <tr style=\"text-align: right;\">\n",
       "      <th></th>\n",
       "      <th>Date</th>\n",
       "      <th>Product</th>\n",
       "      <th>Category</th>\n",
       "      <th>Price</th>\n",
       "      <th>Quantity</th>\n",
       "      <th>Customer_Type</th>\n",
       "    </tr>\n",
       "  </thead>\n",
       "  <tbody>\n",
       "    <tr>\n",
       "      <th>25</th>\n",
       "      <td>2024-02-10</td>\n",
       "      <td>Cappuccino</td>\n",
       "      <td>Beverage</td>\n",
       "      <td>2.89</td>\n",
       "      <td>3</td>\n",
       "      <td>Regular</td>\n",
       "    </tr>\n",
       "    <tr>\n",
       "      <th>26</th>\n",
       "      <td>2024-03-08</td>\n",
       "      <td>Muffin</td>\n",
       "      <td>Food</td>\n",
       "      <td>2.99</td>\n",
       "      <td>4</td>\n",
       "      <td>New</td>\n",
       "    </tr>\n",
       "    <tr>\n",
       "      <th>27</th>\n",
       "      <td>2024-03-29</td>\n",
       "      <td>Espresso</td>\n",
       "      <td>Beverage</td>\n",
       "      <td>5.45</td>\n",
       "      <td>5</td>\n",
       "      <td>New</td>\n",
       "    </tr>\n",
       "    <tr>\n",
       "      <th>28</th>\n",
       "      <td>2024-02-20</td>\n",
       "      <td>Espresso</td>\n",
       "      <td>Beverage</td>\n",
       "      <td>4.32</td>\n",
       "      <td>1</td>\n",
       "      <td>New</td>\n",
       "    </tr>\n",
       "    <tr>\n",
       "      <th>29</th>\n",
       "      <td>2024-03-13</td>\n",
       "      <td>Croissant</td>\n",
       "      <td>Food</td>\n",
       "      <td>3.03</td>\n",
       "      <td>5</td>\n",
       "      <td>New</td>\n",
       "    </tr>\n",
       "  </tbody>\n",
       "</table>\n",
       "</div>"
      ],
      "text/plain": [
       "          Date     Product  Category  Price  Quantity Customer_Type\n",
       "25  2024-02-10  Cappuccino  Beverage   2.89         3       Regular\n",
       "26  2024-03-08      Muffin      Food   2.99         4           New\n",
       "27  2024-03-29    Espresso  Beverage   5.45         5           New\n",
       "28  2024-02-20    Espresso  Beverage   4.32         1           New\n",
       "29  2024-03-13   Croissant      Food   3.03         5           New"
      ]
     },
     "execution_count": 22,
     "metadata": {},
     "output_type": "execute_result"
    }
   ],
   "source": [
    "print('last 5 rows')\n",
    "df.tail(5)\n"
   ]
  },
  {
   "cell_type": "code",
   "execution_count": 20,
   "id": "97c86ada-e887-4b95-8eb4-6f3e68c13422",
   "metadata": {},
   "outputs": [
    {
     "name": "stdout",
     "output_type": "stream",
     "text": [
      "\n",
      "==================================================\n"
     ]
    }
   ],
   "source": [
    "print(\"\\n\" + \"=\"*50)"
   ]
  },
  {
   "cell_type": "code",
   "execution_count": 24,
   "id": "bf6539f0-e71b-44eb-9341-76ac6ecb5cd6",
   "metadata": {},
   "outputs": [
    {
     "name": "stdout",
     "output_type": "stream",
     "text": [
      "Winners Hotel Menu\n",
      "\n",
      "==================================================\n",
      "Meat ======== 250/=\n"
     ]
    }
   ],
   "source": [
    "print(\"Winners Hotel Menu\")\n",
    "print(\"\\n\" + \"=\"*50)\n",
    "print(\"Meat ======== 250/=\")"
   ]
  },
  {
   "cell_type": "markdown",
   "id": "e8c64fa9-4f6c-47e5-b4e7-7d8691950512",
   "metadata": {},
   "source": [
    "## Understanding Your Data Structure"
   ]
  },
  {
   "cell_type": "code",
   "execution_count": 25,
   "id": "50809755-2c53-4b55-9021-f484bfecdabb",
   "metadata": {},
   "outputs": [
    {
     "name": "stdout",
     "output_type": "stream",
     "text": [
      "Dataset information\n",
      "<class 'pandas.core.frame.DataFrame'>\n",
      "RangeIndex: 30 entries, 0 to 29\n",
      "Data columns (total 6 columns):\n",
      " #   Column         Non-Null Count  Dtype  \n",
      "---  ------         --------------  -----  \n",
      " 0   Date           30 non-null     object \n",
      " 1   Product        30 non-null     object \n",
      " 2   Category       30 non-null     object \n",
      " 3   Price          30 non-null     float64\n",
      " 4   Quantity       30 non-null     int64  \n",
      " 5   Customer_Type  30 non-null     object \n",
      "dtypes: float64(1), int64(1), object(4)\n",
      "memory usage: 1.5+ KB\n"
     ]
    }
   ],
   "source": [
    "print('Dataset information')\n",
    "df.info()"
   ]
  },
  {
   "cell_type": "code",
   "execution_count": 27,
   "id": "e58f337f-c2b1-4524-a67a-0c70ca979c6e",
   "metadata": {},
   "outputs": [
    {
     "name": "stdout",
     "output_type": "stream",
     "text": [
      "Dataset shape\n"
     ]
    },
    {
     "data": {
      "text/plain": [
       "(30, 6)"
      ]
     },
     "execution_count": 27,
     "metadata": {},
     "output_type": "execute_result"
    }
   ],
   "source": [
    "print('Dataset shape')\n",
    "df.shape"
   ]
  },
  {
   "cell_type": "code",
   "execution_count": 28,
   "id": "5676139b-b088-4be2-8270-6b6ac2e4e084",
   "metadata": {},
   "outputs": [
    {
     "name": "stdout",
     "output_type": "stream",
     "text": [
      "number of rows\n"
     ]
    },
    {
     "data": {
      "text/plain": [
       "(30, 6)"
      ]
     },
     "execution_count": 28,
     "metadata": {},
     "output_type": "execute_result"
    }
   ],
   "source": [
    "print('number of rows')\n",
    "df.shape"
   ]
  },
  {
   "cell_type": "code",
   "execution_count": 29,
   "id": "56744c22-3923-4f92-8581-56a6bacb7a72",
   "metadata": {},
   "outputs": [
    {
     "data": {
      "text/plain": [
       "Index(['Date', 'Product', 'Category', 'Price', 'Quantity', 'Customer_Type'], dtype='object')"
      ]
     },
     "execution_count": 29,
     "metadata": {},
     "output_type": "execute_result"
    }
   ],
   "source": [
    "# print column names\n",
    "df.columns"
   ]
  },
  {
   "cell_type": "code",
   "execution_count": 30,
   "id": "eac1f046-ee0a-4ca0-ae99-7d7aee613290",
   "metadata": {},
   "outputs": [
    {
     "data": {
      "text/plain": [
       "['Date', 'Product', 'Category', 'Price', 'Quantity', 'Customer_Type']"
      ]
     },
     "execution_count": 30,
     "metadata": {},
     "output_type": "execute_result"
    }
   ],
   "source": [
    "df.columns.tolist() # converts into a single list"
   ]
  },
  {
   "cell_type": "markdown",
   "id": "ec762264-5e04-4723-aba3-eaaa95e91ddf",
   "metadata": {},
   "source": [
    "### Getting Summary Statistics"
   ]
  },
  {
   "cell_type": "code",
   "execution_count": 32,
   "id": "863f2382-50ad-443f-9438-f06193563fb9",
   "metadata": {},
   "outputs": [
    {
     "data": {
      "text/html": [
       "<div>\n",
       "<style scoped>\n",
       "    .dataframe tbody tr th:only-of-type {\n",
       "        vertical-align: middle;\n",
       "    }\n",
       "\n",
       "    .dataframe tbody tr th {\n",
       "        vertical-align: top;\n",
       "    }\n",
       "\n",
       "    .dataframe thead th {\n",
       "        text-align: right;\n",
       "    }\n",
       "</style>\n",
       "<table border=\"1\" class=\"dataframe\">\n",
       "  <thead>\n",
       "    <tr style=\"text-align: right;\">\n",
       "      <th></th>\n",
       "      <th>Price</th>\n",
       "      <th>Quantity</th>\n",
       "    </tr>\n",
       "  </thead>\n",
       "  <tbody>\n",
       "    <tr>\n",
       "      <th>count</th>\n",
       "      <td>30.000000</td>\n",
       "      <td>30.000000</td>\n",
       "    </tr>\n",
       "    <tr>\n",
       "      <th>mean</th>\n",
       "      <td>3.750667</td>\n",
       "      <td>3.300000</td>\n",
       "    </tr>\n",
       "    <tr>\n",
       "      <th>std</th>\n",
       "      <td>0.920858</td>\n",
       "      <td>1.556964</td>\n",
       "    </tr>\n",
       "    <tr>\n",
       "      <th>min</th>\n",
       "      <td>2.400000</td>\n",
       "      <td>1.000000</td>\n",
       "    </tr>\n",
       "    <tr>\n",
       "      <th>25%</th>\n",
       "      <td>3.000000</td>\n",
       "      <td>2.000000</td>\n",
       "    </tr>\n",
       "    <tr>\n",
       "      <th>50%</th>\n",
       "      <td>3.660000</td>\n",
       "      <td>4.000000</td>\n",
       "    </tr>\n",
       "    <tr>\n",
       "      <th>75%</th>\n",
       "      <td>4.305000</td>\n",
       "      <td>5.000000</td>\n",
       "    </tr>\n",
       "    <tr>\n",
       "      <th>max</th>\n",
       "      <td>5.490000</td>\n",
       "      <td>5.000000</td>\n",
       "    </tr>\n",
       "  </tbody>\n",
       "</table>\n",
       "</div>"
      ],
      "text/plain": [
       "           Price   Quantity\n",
       "count  30.000000  30.000000\n",
       "mean    3.750667   3.300000\n",
       "std     0.920858   1.556964\n",
       "min     2.400000   1.000000\n",
       "25%     3.000000   2.000000\n",
       "50%     3.660000   4.000000\n",
       "75%     4.305000   5.000000\n",
       "max     5.490000   5.000000"
      ]
     },
     "execution_count": 32,
     "metadata": {},
     "output_type": "execute_result"
    }
   ],
   "source": [
    "# show summary statistics\n",
    "df.describe() # get statistics for numerical columns only"
   ]
  },
  {
   "cell_type": "markdown",
   "id": "8f503a49-8fc6-440d-bc49-565ca8d1cd42",
   "metadata": {},
   "source": [
    "### Selecting Data"
   ]
  },
  {
   "cell_type": "markdown",
   "id": "1442990d-4b2d-404c-8375-851fca64c0a2",
   "metadata": {},
   "source": [
    "### selecting Columns"
   ]
  },
  {
   "cell_type": "code",
   "execution_count": 35,
   "id": "7d92ee7c-4557-44d0-8f71-4df2c818efe3",
   "metadata": {},
   "outputs": [
    {
     "data": {
      "text/plain": [
       "0    Croissant\n",
       "1        Bagel\n",
       "2        Mocha\n",
       "3    Americano\n",
       "4        Mocha\n",
       "Name: Product, dtype: object"
      ]
     },
     "execution_count": 35,
     "metadata": {},
     "output_type": "execute_result"
    }
   ],
   "source": [
    "product_column= df[\"Product\"]\n",
    "product_column.head(5)"
   ]
  },
  {
   "cell_type": "code",
   "execution_count": 36,
   "id": "1266c9f8-21a9-475d-be3c-14abbe0f06af",
   "metadata": {},
   "outputs": [
    {
     "data": {
      "text/html": [
       "<div>\n",
       "<style scoped>\n",
       "    .dataframe tbody tr th:only-of-type {\n",
       "        vertical-align: middle;\n",
       "    }\n",
       "\n",
       "    .dataframe tbody tr th {\n",
       "        vertical-align: top;\n",
       "    }\n",
       "\n",
       "    .dataframe thead th {\n",
       "        text-align: right;\n",
       "    }\n",
       "</style>\n",
       "<table border=\"1\" class=\"dataframe\">\n",
       "  <thead>\n",
       "    <tr style=\"text-align: right;\">\n",
       "      <th></th>\n",
       "      <th>Date</th>\n",
       "      <th>Product</th>\n",
       "      <th>Category</th>\n",
       "      <th>Price</th>\n",
       "      <th>Quantity</th>\n",
       "      <th>Customer_Type</th>\n",
       "    </tr>\n",
       "  </thead>\n",
       "  <tbody>\n",
       "    <tr>\n",
       "      <th>0</th>\n",
       "      <td>2024-02-11</td>\n",
       "      <td>Croissant</td>\n",
       "      <td>Food</td>\n",
       "      <td>2.87</td>\n",
       "      <td>5</td>\n",
       "      <td>New</td>\n",
       "    </tr>\n",
       "    <tr>\n",
       "      <th>1</th>\n",
       "      <td>2024-01-07</td>\n",
       "      <td>Bagel</td>\n",
       "      <td>Food</td>\n",
       "      <td>2.40</td>\n",
       "      <td>5</td>\n",
       "      <td>New</td>\n",
       "    </tr>\n",
       "    <tr>\n",
       "      <th>2</th>\n",
       "      <td>2024-01-29</td>\n",
       "      <td>Mocha</td>\n",
       "      <td>Beverage</td>\n",
       "      <td>5.32</td>\n",
       "      <td>2</td>\n",
       "      <td>New</td>\n",
       "    </tr>\n",
       "    <tr>\n",
       "      <th>3</th>\n",
       "      <td>2024-02-14</td>\n",
       "      <td>Americano</td>\n",
       "      <td>Beverage</td>\n",
       "      <td>4.25</td>\n",
       "      <td>2</td>\n",
       "      <td>New</td>\n",
       "    </tr>\n",
       "    <tr>\n",
       "      <th>4</th>\n",
       "      <td>2024-02-21</td>\n",
       "      <td>Mocha</td>\n",
       "      <td>Beverage</td>\n",
       "      <td>3.15</td>\n",
       "      <td>1</td>\n",
       "      <td>Regular</td>\n",
       "    </tr>\n",
       "  </tbody>\n",
       "</table>\n",
       "</div>"
      ],
      "text/plain": [
       "         Date    Product  Category  Price  Quantity Customer_Type\n",
       "0  2024-02-11  Croissant      Food   2.87         5           New\n",
       "1  2024-01-07      Bagel      Food   2.40         5           New\n",
       "2  2024-01-29      Mocha  Beverage   5.32         2           New\n",
       "3  2024-02-14  Americano  Beverage   4.25         2           New\n",
       "4  2024-02-21      Mocha  Beverage   3.15         1       Regular"
      ]
     },
     "execution_count": 36,
     "metadata": {},
     "output_type": "execute_result"
    }
   ],
   "source": [
    "df.head(5)"
   ]
  },
  {
   "cell_type": "code",
   "execution_count": 40,
   "id": "86b23cdc-b955-49f7-adfa-9ddcecb99b3e",
   "metadata": {},
   "outputs": [
    {
     "data": {
      "text/html": [
       "<div>\n",
       "<style scoped>\n",
       "    .dataframe tbody tr th:only-of-type {\n",
       "        vertical-align: middle;\n",
       "    }\n",
       "\n",
       "    .dataframe tbody tr th {\n",
       "        vertical-align: top;\n",
       "    }\n",
       "\n",
       "    .dataframe thead th {\n",
       "        text-align: right;\n",
       "    }\n",
       "</style>\n",
       "<table border=\"1\" class=\"dataframe\">\n",
       "  <thead>\n",
       "    <tr style=\"text-align: right;\">\n",
       "      <th></th>\n",
       "      <th>Category</th>\n",
       "      <th>Quantity</th>\n",
       "    </tr>\n",
       "  </thead>\n",
       "  <tbody>\n",
       "    <tr>\n",
       "      <th>0</th>\n",
       "      <td>Food</td>\n",
       "      <td>5</td>\n",
       "    </tr>\n",
       "    <tr>\n",
       "      <th>1</th>\n",
       "      <td>Food</td>\n",
       "      <td>5</td>\n",
       "    </tr>\n",
       "    <tr>\n",
       "      <th>2</th>\n",
       "      <td>Beverage</td>\n",
       "      <td>2</td>\n",
       "    </tr>\n",
       "    <tr>\n",
       "      <th>3</th>\n",
       "      <td>Beverage</td>\n",
       "      <td>2</td>\n",
       "    </tr>\n",
       "    <tr>\n",
       "      <th>4</th>\n",
       "      <td>Beverage</td>\n",
       "      <td>1</td>\n",
       "    </tr>\n",
       "  </tbody>\n",
       "</table>\n",
       "</div>"
      ],
      "text/plain": [
       "   Category  Quantity\n",
       "0      Food         5\n",
       "1      Food         5\n",
       "2  Beverage         2\n",
       "3  Beverage         2\n",
       "4  Beverage         1"
      ]
     },
     "execution_count": 40,
     "metadata": {},
     "output_type": "execute_result"
    }
   ],
   "source": [
    "# selecting multiple columns\n",
    "category_and_quantity=df[['Category','Quantity']]\n",
    "\n",
    "category_and_quantity.head()"
   ]
  },
  {
   "cell_type": "code",
   "execution_count": 41,
   "id": "4516c83e-117a-4477-896c-6eadd0ae5b52",
   "metadata": {},
   "outputs": [
    {
     "data": {
      "text/plain": [
       "0    2.87\n",
       "1    2.40\n",
       "2    5.32\n",
       "3    4.25\n",
       "4    3.15\n",
       "Name: Price, dtype: float64"
      ]
     },
     "execution_count": 41,
     "metadata": {},
     "output_type": "execute_result"
    }
   ],
   "source": [
    "prices=df.Price\n",
    "prices.head(5)"
   ]
  },
  {
   "cell_type": "markdown",
   "id": "59df1baa-f402-4973-afaa-ae6b4b59b104",
   "metadata": {},
   "source": [
    "### Selecting Rows"
   ]
  },
  {
   "cell_type": "markdown",
   "id": "49978ee3-b47c-41df-b347-afc62c25afef",
   "metadata": {},
   "source": [
    "#### Using .iloc[] "
   ]
  },
  {
   "cell_type": "code",
   "execution_count": 42,
   "id": "b66bc15a-40d4-4e85-9b40-a58e956bc09d",
   "metadata": {},
   "outputs": [
    {
     "data": {
      "text/plain": [
       "Date             2024-02-11\n",
       "Product           Croissant\n",
       "Category               Food\n",
       "Price                  2.87\n",
       "Quantity                  5\n",
       "Customer_Type           New\n",
       "Name: 0, dtype: object"
      ]
     },
     "execution_count": 42,
     "metadata": {},
     "output_type": "execute_result"
    }
   ],
   "source": [
    "first_row=df.iloc[0]\n",
    "first_row"
   ]
  },
  {
   "cell_type": "code",
   "execution_count": 43,
   "id": "9f0fcd99-5ca0-4a74-85c0-eeacacab7936",
   "metadata": {},
   "outputs": [
    {
     "data": {
      "text/html": [
       "<div>\n",
       "<style scoped>\n",
       "    .dataframe tbody tr th:only-of-type {\n",
       "        vertical-align: middle;\n",
       "    }\n",
       "\n",
       "    .dataframe tbody tr th {\n",
       "        vertical-align: top;\n",
       "    }\n",
       "\n",
       "    .dataframe thead th {\n",
       "        text-align: right;\n",
       "    }\n",
       "</style>\n",
       "<table border=\"1\" class=\"dataframe\">\n",
       "  <thead>\n",
       "    <tr style=\"text-align: right;\">\n",
       "      <th></th>\n",
       "      <th>Date</th>\n",
       "      <th>Product</th>\n",
       "      <th>Category</th>\n",
       "      <th>Price</th>\n",
       "      <th>Quantity</th>\n",
       "      <th>Customer_Type</th>\n",
       "    </tr>\n",
       "  </thead>\n",
       "  <tbody>\n",
       "    <tr>\n",
       "      <th>0</th>\n",
       "      <td>2024-02-11</td>\n",
       "      <td>Croissant</td>\n",
       "      <td>Food</td>\n",
       "      <td>2.87</td>\n",
       "      <td>5</td>\n",
       "      <td>New</td>\n",
       "    </tr>\n",
       "    <tr>\n",
       "      <th>1</th>\n",
       "      <td>2024-01-07</td>\n",
       "      <td>Bagel</td>\n",
       "      <td>Food</td>\n",
       "      <td>2.40</td>\n",
       "      <td>5</td>\n",
       "      <td>New</td>\n",
       "    </tr>\n",
       "    <tr>\n",
       "      <th>2</th>\n",
       "      <td>2024-01-29</td>\n",
       "      <td>Mocha</td>\n",
       "      <td>Beverage</td>\n",
       "      <td>5.32</td>\n",
       "      <td>2</td>\n",
       "      <td>New</td>\n",
       "    </tr>\n",
       "  </tbody>\n",
       "</table>\n",
       "</div>"
      ],
      "text/plain": [
       "         Date    Product  Category  Price  Quantity Customer_Type\n",
       "0  2024-02-11  Croissant      Food   2.87         5           New\n",
       "1  2024-01-07      Bagel      Food   2.40         5           New\n",
       "2  2024-01-29      Mocha  Beverage   5.32         2           New"
      ]
     },
     "execution_count": 43,
     "metadata": {},
     "output_type": "execute_result"
    }
   ],
   "source": [
    "first_3_rows=df.iloc[0:3]\n",
    "first_3_rows"
   ]
  },
  {
   "cell_type": "markdown",
   "id": "38225c51-a448-493b-9a64-4a7321b29c68",
   "metadata": {},
   "source": [
    "### Using .loc[] (Label-Based Selection) \n",
    "\n"
   ]
  },
  {
   "cell_type": "code",
   "execution_count": 44,
   "id": "646dc029-3b7f-48bc-958f-61e6c89cafec",
   "metadata": {},
   "outputs": [
    {
     "data": {
      "text/plain": [
       "Date             2024-02-11\n",
       "Product           Croissant\n",
       "Category               Food\n",
       "Price                  2.87\n",
       "Quantity                  5\n",
       "Customer_Type           New\n",
       "Name: 0, dtype: object"
      ]
     },
     "execution_count": 44,
     "metadata": {},
     "output_type": "execute_result"
    }
   ],
   "source": [
    "first_row=df.loc[0]\n",
    "first_row"
   ]
  },
  {
   "cell_type": "code",
   "execution_count": 46,
   "id": "768fded6-389b-42f1-b567-fbd18bce6bb5",
   "metadata": {},
   "outputs": [
    {
     "data": {
      "text/html": [
       "<div>\n",
       "<style scoped>\n",
       "    .dataframe tbody tr th:only-of-type {\n",
       "        vertical-align: middle;\n",
       "    }\n",
       "\n",
       "    .dataframe tbody tr th {\n",
       "        vertical-align: top;\n",
       "    }\n",
       "\n",
       "    .dataframe thead th {\n",
       "        text-align: right;\n",
       "    }\n",
       "</style>\n",
       "<table border=\"1\" class=\"dataframe\">\n",
       "  <thead>\n",
       "    <tr style=\"text-align: right;\">\n",
       "      <th></th>\n",
       "      <th>Product</th>\n",
       "      <th>Price</th>\n",
       "    </tr>\n",
       "  </thead>\n",
       "  <tbody>\n",
       "    <tr>\n",
       "      <th>0</th>\n",
       "      <td>Croissant</td>\n",
       "      <td>2.87</td>\n",
       "    </tr>\n",
       "    <tr>\n",
       "      <th>1</th>\n",
       "      <td>Bagel</td>\n",
       "      <td>2.40</td>\n",
       "    </tr>\n",
       "    <tr>\n",
       "      <th>2</th>\n",
       "      <td>Mocha</td>\n",
       "      <td>5.32</td>\n",
       "    </tr>\n",
       "    <tr>\n",
       "      <th>3</th>\n",
       "      <td>Americano</td>\n",
       "      <td>4.25</td>\n",
       "    </tr>\n",
       "    <tr>\n",
       "      <th>4</th>\n",
       "      <td>Mocha</td>\n",
       "      <td>3.15</td>\n",
       "    </tr>\n",
       "    <tr>\n",
       "      <th>5</th>\n",
       "      <td>Americano</td>\n",
       "      <td>5.48</td>\n",
       "    </tr>\n",
       "  </tbody>\n",
       "</table>\n",
       "</div>"
      ],
      "text/plain": [
       "     Product  Price\n",
       "0  Croissant   2.87\n",
       "1      Bagel   2.40\n",
       "2      Mocha   5.32\n",
       "3  Americano   4.25\n",
       "4      Mocha   3.15\n",
       "5  Americano   5.48"
      ]
     },
     "execution_count": 46,
     "metadata": {},
     "output_type": "execute_result"
    }
   ],
   "source": [
    "first_5_rows=df.loc[0:5,['Product','Price']]\n",
    "first_5_rows"
   ]
  },
  {
   "cell_type": "markdown",
   "id": "d6dd21e7-83ae-4be1-b541-58e540419869",
   "metadata": {},
   "source": [
    "### Filtering Data "
   ]
  },
  {
   "cell_type": "code",
   "execution_count": 48,
   "id": "e975013a-7d2f-4a2f-b1b3-fa1d243526a9",
   "metadata": {},
   "outputs": [
    {
     "data": {
      "text/html": [
       "<div>\n",
       "<style scoped>\n",
       "    .dataframe tbody tr th:only-of-type {\n",
       "        vertical-align: middle;\n",
       "    }\n",
       "\n",
       "    .dataframe tbody tr th {\n",
       "        vertical-align: top;\n",
       "    }\n",
       "\n",
       "    .dataframe thead th {\n",
       "        text-align: right;\n",
       "    }\n",
       "</style>\n",
       "<table border=\"1\" class=\"dataframe\">\n",
       "  <thead>\n",
       "    <tr style=\"text-align: right;\">\n",
       "      <th></th>\n",
       "      <th>Date</th>\n",
       "      <th>Product</th>\n",
       "      <th>Category</th>\n",
       "      <th>Price</th>\n",
       "      <th>Quantity</th>\n",
       "      <th>Customer_Type</th>\n",
       "    </tr>\n",
       "  </thead>\n",
       "  <tbody>\n",
       "    <tr>\n",
       "      <th>2</th>\n",
       "      <td>2024-01-29</td>\n",
       "      <td>Mocha</td>\n",
       "      <td>Beverage</td>\n",
       "      <td>5.32</td>\n",
       "      <td>2</td>\n",
       "      <td>New</td>\n",
       "    </tr>\n",
       "    <tr>\n",
       "      <th>3</th>\n",
       "      <td>2024-02-14</td>\n",
       "      <td>Americano</td>\n",
       "      <td>Beverage</td>\n",
       "      <td>4.25</td>\n",
       "      <td>2</td>\n",
       "      <td>New</td>\n",
       "    </tr>\n",
       "    <tr>\n",
       "      <th>5</th>\n",
       "      <td>2024-02-27</td>\n",
       "      <td>Americano</td>\n",
       "      <td>Beverage</td>\n",
       "      <td>5.48</td>\n",
       "      <td>4</td>\n",
       "      <td>New</td>\n",
       "    </tr>\n",
       "    <tr>\n",
       "      <th>6</th>\n",
       "      <td>2024-02-01</td>\n",
       "      <td>Latte</td>\n",
       "      <td>Beverage</td>\n",
       "      <td>4.39</td>\n",
       "      <td>5</td>\n",
       "      <td>Regular</td>\n",
       "    </tr>\n",
       "    <tr>\n",
       "      <th>7</th>\n",
       "      <td>2024-01-10</td>\n",
       "      <td>Americano</td>\n",
       "      <td>Beverage</td>\n",
       "      <td>5.49</td>\n",
       "      <td>5</td>\n",
       "      <td>New</td>\n",
       "    </tr>\n",
       "    <tr>\n",
       "      <th>16</th>\n",
       "      <td>2024-03-19</td>\n",
       "      <td>Espresso</td>\n",
       "      <td>Beverage</td>\n",
       "      <td>4.26</td>\n",
       "      <td>3</td>\n",
       "      <td>Regular</td>\n",
       "    </tr>\n",
       "    <tr>\n",
       "      <th>18</th>\n",
       "      <td>2024-03-27</td>\n",
       "      <td>Cappuccino</td>\n",
       "      <td>Beverage</td>\n",
       "      <td>4.84</td>\n",
       "      <td>2</td>\n",
       "      <td>New</td>\n",
       "    </tr>\n",
       "    <tr>\n",
       "      <th>20</th>\n",
       "      <td>2024-03-12</td>\n",
       "      <td>Americano</td>\n",
       "      <td>Beverage</td>\n",
       "      <td>4.60</td>\n",
       "      <td>5</td>\n",
       "      <td>New</td>\n",
       "    </tr>\n",
       "    <tr>\n",
       "      <th>27</th>\n",
       "      <td>2024-03-29</td>\n",
       "      <td>Espresso</td>\n",
       "      <td>Beverage</td>\n",
       "      <td>5.45</td>\n",
       "      <td>5</td>\n",
       "      <td>New</td>\n",
       "    </tr>\n",
       "    <tr>\n",
       "      <th>28</th>\n",
       "      <td>2024-02-20</td>\n",
       "      <td>Espresso</td>\n",
       "      <td>Beverage</td>\n",
       "      <td>4.32</td>\n",
       "      <td>1</td>\n",
       "      <td>New</td>\n",
       "    </tr>\n",
       "  </tbody>\n",
       "</table>\n",
       "</div>"
      ],
      "text/plain": [
       "          Date     Product  Category  Price  Quantity Customer_Type\n",
       "2   2024-01-29       Mocha  Beverage   5.32         2           New\n",
       "3   2024-02-14   Americano  Beverage   4.25         2           New\n",
       "5   2024-02-27   Americano  Beverage   5.48         4           New\n",
       "6   2024-02-01       Latte  Beverage   4.39         5       Regular\n",
       "7   2024-01-10   Americano  Beverage   5.49         5           New\n",
       "16  2024-03-19    Espresso  Beverage   4.26         3       Regular\n",
       "18  2024-03-27  Cappuccino  Beverage   4.84         2           New\n",
       "20  2024-03-12   Americano  Beverage   4.60         5           New\n",
       "27  2024-03-29    Espresso  Beverage   5.45         5           New\n",
       "28  2024-02-20    Espresso  Beverage   4.32         1           New"
      ]
     },
     "execution_count": 48,
     "metadata": {},
     "output_type": "execute_result"
    }
   ],
   "source": [
    "# # Filter 1: Find expensive items (price > $4.00) \n",
    "expensive_items = df[df['Price'] > 4.00]  \n",
    "expensive_items\n"
   ]
  },
  {
   "cell_type": "code",
   "execution_count": 51,
   "id": "bb5efbc7-67ad-4909-8120-e85f53a78fc4",
   "metadata": {},
   "outputs": [
    {
     "data": {
      "text/html": [
       "<div>\n",
       "<style scoped>\n",
       "    .dataframe tbody tr th:only-of-type {\n",
       "        vertical-align: middle;\n",
       "    }\n",
       "\n",
       "    .dataframe tbody tr th {\n",
       "        vertical-align: top;\n",
       "    }\n",
       "\n",
       "    .dataframe thead th {\n",
       "        text-align: right;\n",
       "    }\n",
       "</style>\n",
       "<table border=\"1\" class=\"dataframe\">\n",
       "  <thead>\n",
       "    <tr style=\"text-align: right;\">\n",
       "      <th></th>\n",
       "      <th>Date</th>\n",
       "      <th>Product</th>\n",
       "      <th>Category</th>\n",
       "      <th>Price</th>\n",
       "      <th>Quantity</th>\n",
       "      <th>Customer_Type</th>\n",
       "    </tr>\n",
       "  </thead>\n",
       "  <tbody>\n",
       "    <tr>\n",
       "      <th>0</th>\n",
       "      <td>2024-02-11</td>\n",
       "      <td>Croissant</td>\n",
       "      <td>Food</td>\n",
       "      <td>2.87</td>\n",
       "      <td>5</td>\n",
       "      <td>New</td>\n",
       "    </tr>\n",
       "    <tr>\n",
       "      <th>1</th>\n",
       "      <td>2024-01-07</td>\n",
       "      <td>Bagel</td>\n",
       "      <td>Food</td>\n",
       "      <td>2.40</td>\n",
       "      <td>5</td>\n",
       "      <td>New</td>\n",
       "    </tr>\n",
       "    <tr>\n",
       "      <th>2</th>\n",
       "      <td>2024-01-29</td>\n",
       "      <td>Mocha</td>\n",
       "      <td>Beverage</td>\n",
       "      <td>5.32</td>\n",
       "      <td>2</td>\n",
       "      <td>New</td>\n",
       "    </tr>\n",
       "    <tr>\n",
       "      <th>3</th>\n",
       "      <td>2024-02-14</td>\n",
       "      <td>Americano</td>\n",
       "      <td>Beverage</td>\n",
       "      <td>4.25</td>\n",
       "      <td>2</td>\n",
       "      <td>New</td>\n",
       "    </tr>\n",
       "    <tr>\n",
       "      <th>4</th>\n",
       "      <td>2024-02-21</td>\n",
       "      <td>Mocha</td>\n",
       "      <td>Beverage</td>\n",
       "      <td>3.15</td>\n",
       "      <td>1</td>\n",
       "      <td>Regular</td>\n",
       "    </tr>\n",
       "  </tbody>\n",
       "</table>\n",
       "</div>"
      ],
      "text/plain": [
       "         Date    Product  Category  Price  Quantity Customer_Type\n",
       "0  2024-02-11  Croissant      Food   2.87         5           New\n",
       "1  2024-01-07      Bagel      Food   2.40         5           New\n",
       "2  2024-01-29      Mocha  Beverage   5.32         2           New\n",
       "3  2024-02-14  Americano  Beverage   4.25         2           New\n",
       "4  2024-02-21      Mocha  Beverage   3.15         1       Regular"
      ]
     },
     "execution_count": 51,
     "metadata": {},
     "output_type": "execute_result"
    }
   ],
   "source": [
    "# show details where Customer type is regular\n",
    "regular_customer=df[df['Customer_Type']=='Regular']\n",
    "regular_customer\n",
    "df.head(5)"
   ]
  },
  {
   "cell_type": "code",
   "execution_count": 53,
   "id": "87210ca8-30ad-4804-beb5-d419857e5784",
   "metadata": {},
   "outputs": [
    {
     "data": {
      "text/html": [
       "<div>\n",
       "<style scoped>\n",
       "    .dataframe tbody tr th:only-of-type {\n",
       "        vertical-align: middle;\n",
       "    }\n",
       "\n",
       "    .dataframe tbody tr th {\n",
       "        vertical-align: top;\n",
       "    }\n",
       "\n",
       "    .dataframe thead th {\n",
       "        text-align: right;\n",
       "    }\n",
       "</style>\n",
       "<table border=\"1\" class=\"dataframe\">\n",
       "  <thead>\n",
       "    <tr style=\"text-align: right;\">\n",
       "      <th></th>\n",
       "      <th>Date</th>\n",
       "      <th>Product</th>\n",
       "      <th>Category</th>\n",
       "      <th>Price</th>\n",
       "      <th>Quantity</th>\n",
       "      <th>Customer_Type</th>\n",
       "    </tr>\n",
       "  </thead>\n",
       "  <tbody>\n",
       "    <tr>\n",
       "      <th>0</th>\n",
       "      <td>2024-02-11</td>\n",
       "      <td>Croissant</td>\n",
       "      <td>Food</td>\n",
       "      <td>2.87</td>\n",
       "      <td>5</td>\n",
       "      <td>New</td>\n",
       "    </tr>\n",
       "    <tr>\n",
       "      <th>1</th>\n",
       "      <td>2024-01-07</td>\n",
       "      <td>Bagel</td>\n",
       "      <td>Food</td>\n",
       "      <td>2.40</td>\n",
       "      <td>5</td>\n",
       "      <td>New</td>\n",
       "    </tr>\n",
       "    <tr>\n",
       "      <th>8</th>\n",
       "      <td>2024-01-06</td>\n",
       "      <td>Muffin</td>\n",
       "      <td>Food</td>\n",
       "      <td>3.57</td>\n",
       "      <td>1</td>\n",
       "      <td>Regular</td>\n",
       "    </tr>\n",
       "    <tr>\n",
       "      <th>10</th>\n",
       "      <td>2024-03-15</td>\n",
       "      <td>Croissant</td>\n",
       "      <td>Food</td>\n",
       "      <td>3.69</td>\n",
       "      <td>4</td>\n",
       "      <td>Regular</td>\n",
       "    </tr>\n",
       "  </tbody>\n",
       "</table>\n",
       "</div>"
      ],
      "text/plain": [
       "          Date    Product Category  Price  Quantity Customer_Type\n",
       "0   2024-02-11  Croissant     Food   2.87         5           New\n",
       "1   2024-01-07      Bagel     Food   2.40         5           New\n",
       "8   2024-01-06     Muffin     Food   3.57         1       Regular\n",
       "10  2024-03-15  Croissant     Food   3.69         4       Regular"
      ]
     },
     "execution_count": 53,
     "metadata": {},
     "output_type": "execute_result"
    }
   ],
   "source": [
    "food=df[df['Category']=='Food']\n",
    "food.head(4)"
   ]
  },
  {
   "cell_type": "code",
   "execution_count": 56,
   "id": "694553c4-f014-41c4-b8ac-11edc0fa237b",
   "metadata": {},
   "outputs": [
    {
     "name": "stdout",
     "output_type": "stream",
     "text": [
      "Expensive beverages:\n"
     ]
    },
    {
     "data": {
      "text/html": [
       "<div>\n",
       "<style scoped>\n",
       "    .dataframe tbody tr th:only-of-type {\n",
       "        vertical-align: middle;\n",
       "    }\n",
       "\n",
       "    .dataframe tbody tr th {\n",
       "        vertical-align: top;\n",
       "    }\n",
       "\n",
       "    .dataframe thead th {\n",
       "        text-align: right;\n",
       "    }\n",
       "</style>\n",
       "<table border=\"1\" class=\"dataframe\">\n",
       "  <thead>\n",
       "    <tr style=\"text-align: right;\">\n",
       "      <th></th>\n",
       "      <th>Date</th>\n",
       "      <th>Product</th>\n",
       "      <th>Category</th>\n",
       "      <th>Price</th>\n",
       "      <th>Quantity</th>\n",
       "      <th>Customer_Type</th>\n",
       "    </tr>\n",
       "  </thead>\n",
       "  <tbody>\n",
       "    <tr>\n",
       "      <th>2</th>\n",
       "      <td>2024-01-29</td>\n",
       "      <td>Mocha</td>\n",
       "      <td>Beverage</td>\n",
       "      <td>5.32</td>\n",
       "      <td>2</td>\n",
       "      <td>New</td>\n",
       "    </tr>\n",
       "    <tr>\n",
       "      <th>3</th>\n",
       "      <td>2024-02-14</td>\n",
       "      <td>Americano</td>\n",
       "      <td>Beverage</td>\n",
       "      <td>4.25</td>\n",
       "      <td>2</td>\n",
       "      <td>New</td>\n",
       "    </tr>\n",
       "    <tr>\n",
       "      <th>5</th>\n",
       "      <td>2024-02-27</td>\n",
       "      <td>Americano</td>\n",
       "      <td>Beverage</td>\n",
       "      <td>5.48</td>\n",
       "      <td>4</td>\n",
       "      <td>New</td>\n",
       "    </tr>\n",
       "    <tr>\n",
       "      <th>6</th>\n",
       "      <td>2024-02-01</td>\n",
       "      <td>Latte</td>\n",
       "      <td>Beverage</td>\n",
       "      <td>4.39</td>\n",
       "      <td>5</td>\n",
       "      <td>Regular</td>\n",
       "    </tr>\n",
       "    <tr>\n",
       "      <th>7</th>\n",
       "      <td>2024-01-10</td>\n",
       "      <td>Americano</td>\n",
       "      <td>Beverage</td>\n",
       "      <td>5.49</td>\n",
       "      <td>5</td>\n",
       "      <td>New</td>\n",
       "    </tr>\n",
       "  </tbody>\n",
       "</table>\n",
       "</div>"
      ],
      "text/plain": [
       "         Date    Product  Category  Price  Quantity Customer_Type\n",
       "2  2024-01-29      Mocha  Beverage   5.32         2           New\n",
       "3  2024-02-14  Americano  Beverage   4.25         2           New\n",
       "5  2024-02-27  Americano  Beverage   5.48         4           New\n",
       "6  2024-02-01      Latte  Beverage   4.39         5       Regular\n",
       "7  2024-01-10  Americano  Beverage   5.49         5           New"
      ]
     },
     "execution_count": 56,
     "metadata": {},
     "output_type": "execute_result"
    }
   ],
   "source": [
    "# Filter 3: Combine conditions with & (AND) \n",
    "expensive_beverages = df[(df['Price'] > 4.00) & (df['Category'] == 'Beverage')]\n",
    "print(\"Expensive beverages:\") \n",
    "expensive_beverages.head(5)\n"
   ]
  },
  {
   "cell_type": "code",
   "execution_count": 58,
   "id": "5b42b0d3-1ffe-4a8a-a08a-d294a4f63a60",
   "metadata": {},
   "outputs": [
    {
     "data": {
      "text/html": [
       "<div>\n",
       "<style scoped>\n",
       "    .dataframe tbody tr th:only-of-type {\n",
       "        vertical-align: middle;\n",
       "    }\n",
       "\n",
       "    .dataframe tbody tr th {\n",
       "        vertical-align: top;\n",
       "    }\n",
       "\n",
       "    .dataframe thead th {\n",
       "        text-align: right;\n",
       "    }\n",
       "</style>\n",
       "<table border=\"1\" class=\"dataframe\">\n",
       "  <thead>\n",
       "    <tr style=\"text-align: right;\">\n",
       "      <th></th>\n",
       "      <th>Date</th>\n",
       "      <th>Product</th>\n",
       "      <th>Category</th>\n",
       "      <th>Price</th>\n",
       "      <th>Quantity</th>\n",
       "      <th>Customer_Type</th>\n",
       "    </tr>\n",
       "  </thead>\n",
       "  <tbody>\n",
       "    <tr>\n",
       "      <th>8</th>\n",
       "      <td>2024-01-06</td>\n",
       "      <td>Muffin</td>\n",
       "      <td>Food</td>\n",
       "      <td>3.57</td>\n",
       "      <td>1</td>\n",
       "      <td>Regular</td>\n",
       "    </tr>\n",
       "    <tr>\n",
       "      <th>10</th>\n",
       "      <td>2024-03-15</td>\n",
       "      <td>Croissant</td>\n",
       "      <td>Food</td>\n",
       "      <td>3.69</td>\n",
       "      <td>4</td>\n",
       "      <td>Regular</td>\n",
       "    </tr>\n",
       "    <tr>\n",
       "      <th>11</th>\n",
       "      <td>2024-02-18</td>\n",
       "      <td>Bagel</td>\n",
       "      <td>Food</td>\n",
       "      <td>3.92</td>\n",
       "      <td>4</td>\n",
       "      <td>Regular</td>\n",
       "    </tr>\n",
       "    <tr>\n",
       "      <th>23</th>\n",
       "      <td>2024-03-07</td>\n",
       "      <td>Croissant</td>\n",
       "      <td>Food</td>\n",
       "      <td>3.14</td>\n",
       "      <td>4</td>\n",
       "      <td>Regular</td>\n",
       "    </tr>\n",
       "    <tr>\n",
       "      <th>29</th>\n",
       "      <td>2024-03-13</td>\n",
       "      <td>Croissant</td>\n",
       "      <td>Food</td>\n",
       "      <td>3.03</td>\n",
       "      <td>5</td>\n",
       "      <td>New</td>\n",
       "    </tr>\n",
       "  </tbody>\n",
       "</table>\n",
       "</div>"
      ],
      "text/plain": [
       "          Date    Product Category  Price  Quantity Customer_Type\n",
       "8   2024-01-06     Muffin     Food   3.57         1       Regular\n",
       "10  2024-03-15  Croissant     Food   3.69         4       Regular\n",
       "11  2024-02-18      Bagel     Food   3.92         4       Regular\n",
       "23  2024-03-07  Croissant     Food   3.14         4       Regular\n",
       "29  2024-03-13  Croissant     Food   3.03         5           New"
      ]
     },
     "execution_count": 58,
     "metadata": {},
     "output_type": "execute_result"
    }
   ],
   "source": [
    "expensive_food=df[(df['Price']>3.00) & (df['Category']=='Food')]\n",
    "expensive_food"
   ]
  },
  {
   "cell_type": "code",
   "execution_count": null,
   "id": "4f1333be-07c1-4f71-8731-1f0410f721aa",
   "metadata": {},
   "outputs": [],
   "source": []
  },
  {
   "cell_type": "code",
   "execution_count": null,
   "id": "36ef6745-7373-43e8-908a-4166bfc3f77c",
   "metadata": {},
   "outputs": [],
   "source": [
    "# ASSIGNMENT"
   ]
  }
 ],
 "metadata": {
  "kernelspec": {
   "display_name": "Python [conda env:base] *",
   "language": "python",
   "name": "conda-base-py"
  },
  "language_info": {
   "codemirror_mode": {
    "name": "ipython",
    "version": 3
   },
   "file_extension": ".py",
   "mimetype": "text/x-python",
   "name": "python",
   "nbconvert_exporter": "python",
   "pygments_lexer": "ipython3",
   "version": "3.13.5"
  }
 },
 "nbformat": 4,
 "nbformat_minor": 5
}
