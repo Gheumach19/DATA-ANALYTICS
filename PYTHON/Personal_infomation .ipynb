{
 "cells": [
  {
   "cell_type": "code",
   "execution_count": 7,
   "id": "4a6e6281-76ea-4f5b-8f28-8e72a3f558bb",
   "metadata": {},
   "outputs": [
    {
     "name": "stdout",
     "output_type": "stream",
     "text": [
      "=== Personal Information System === \n"
     ]
    },
    {
     "name": "stdin",
     "output_type": "stream",
     "text": [
      "Enter your first name:  Gheu\n",
      "Enter your last name:  Mach\n",
      "Enter your age:  22\n",
      "Enter your favorite hobby:  Watching TV series\n"
     ]
    }
   ],
   "source": [
    "# Personal Information\n",
    "print(\"=== Personal Information System === \")\n",
    "first_name=input(\"Enter your first name: \")\n",
    "last_name=input(\"Enter your last name: \")\n",
    "age= int(input(\"Enter your age: \"))\n",
    "favorite_hobby=input(\"Enter your favorite hobby: \")"
   ]
  },
  {
   "cell_type": "code",
   "execution_count": 28,
   "id": "57290b8f-8e3a-47b6-aa4a-db970241da7f",
   "metadata": {},
   "outputs": [
    {
     "name": "stdout",
     "output_type": "stream",
     "text": [
      "=== Here's your information! === \n",
      "Full name: Gheu Mach\n",
      "Name length: 9 characters\n",
      "In the next 5 years you'll be: 27\n",
      "In the next 10 years you'll be: 32\n",
      "In the next 20 years you'll be: 42\n",
      " \n",
      "GHEU MACH - That looks impressive in all caps!\n",
      "gheu mach -that's how it looks like in lowercase!\n",
      "Watching TV series is fun.\n",
      "Gheu, how many series have you watched so far?\n"
     ]
    }
   ],
   "source": [
    "print(\"=== Here's your information! === \")\n",
    "full_name= first_name + \" \" + last_name\n",
    "name_length= len(full_name)\n",
    "age_in_5_years= int(age) + 5\n",
    "age_in_10_years=int(age) + 10\n",
    "age_in_20_years =int(age) + 20\n",
    "\n",
    "print(\"Full name:\", full_name)\n",
    "print(\"Name length:\", name_length, \"characters\")\n",
    "print(\"In the next 5 years you'll be:\" ,age_in_5_years )\n",
    "print(\"In the next 10 years you'll be:\" ,age_in_10_years )\n",
    "print(\"In the next 20 years you'll be:\" ,age_in_20_years )\n",
    "print(\" \")\n",
    "\n",
    "text= \"Gheu Mach\"\n",
    "print(text. upper(),\"- That looks impressive in all caps!\")\n",
    "print(text.lower(),\"-that's how it looks like in lowercase!\")\n",
    "print(\"Watching TV series is fun.\")\n",
    "print(\"Gheu, how many series have you watched so far?\")"
   ]
  },
  {
   "cell_type": "code",
   "execution_count": null,
   "id": "68e104d2-315a-42e3-a8eb-acd922c1f493",
   "metadata": {},
   "outputs": [],
   "source": []
  }
 ],
 "metadata": {
  "kernelspec": {
   "display_name": "Python [conda env:base] *",
   "language": "python",
   "name": "conda-base-py"
  },
  "language_info": {
   "codemirror_mode": {
    "name": "ipython",
    "version": 3
   },
   "file_extension": ".py",
   "mimetype": "text/x-python",
   "name": "python",
   "nbconvert_exporter": "python",
   "pygments_lexer": "ipython3",
   "version": "3.13.5"
  }
 },
 "nbformat": 4,
 "nbformat_minor": 5
}
