{
 "cells": [
  {
   "cell_type": "code",
   "execution_count": null,
   "id": "3cce677e-cebe-4f70-b673-ab17fa20dbc8",
   "metadata": {},
   "outputs": [],
   "source": []
  }
 ],
 "metadata": {
  "kernelspec": {
   "display_name": "",
   "name": ""
  },
  "language_info": {
   "name": ""
  }
 },
 "nbformat": 4,
 "nbformat_minor": 5
}
