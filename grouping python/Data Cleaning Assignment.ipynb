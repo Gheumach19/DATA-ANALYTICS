{
 "cells": [
  {
   "cell_type": "code",
   "execution_count": 2,
   "id": "b7dda9e2-f5a0-40f8-b8a5-c8aac82f3980",
   "metadata": {},
   "outputs": [],
   "source": [
    "import pandas as pd\n",
    "import numpy as np"
   ]
  },
  {
   "cell_type": "code",
   "execution_count": 11,
   "id": "9325ded7-e334-4d29-a4d0-7f37497835b7",
   "metadata": {},
   "outputs": [
    {
     "data": {
      "text/html": [
       "<div>\n",
       "<style scoped>\n",
       "    .dataframe tbody tr th:only-of-type {\n",
       "        vertical-align: middle;\n",
       "    }\n",
       "\n",
       "    .dataframe tbody tr th {\n",
       "        vertical-align: top;\n",
       "    }\n",
       "\n",
       "    .dataframe thead th {\n",
       "        text-align: right;\n",
       "    }\n",
       "</style>\n",
       "<table border=\"1\" class=\"dataframe\">\n",
       "  <thead>\n",
       "    <tr style=\"text-align: right;\">\n",
       "      <th></th>\n",
       "      <th>order_id</th>\n",
       "      <th>customer_email</th>\n",
       "      <th>Product_Name</th>\n",
       "      <th>unit_price</th>\n",
       "      <th>qty</th>\n",
       "      <th>customer_status</th>\n",
       "      <th>order_date</th>\n",
       "    </tr>\n",
       "  </thead>\n",
       "  <tbody>\n",
       "    <tr>\n",
       "      <th>0</th>\n",
       "      <td>2034</td>\n",
       "      <td>eve@email.com</td>\n",
       "      <td>Wireless Mouse</td>\n",
       "      <td>77.67</td>\n",
       "      <td>1</td>\n",
       "      <td>NEW</td>\n",
       "      <td>NaN</td>\n",
       "    </tr>\n",
       "    <tr>\n",
       "      <th>1</th>\n",
       "      <td>2034</td>\n",
       "      <td>BOB@EMAIL.COM</td>\n",
       "      <td>phone case</td>\n",
       "      <td>55.00</td>\n",
       "      <td>3</td>\n",
       "      <td>returning</td>\n",
       "      <td>NaN</td>\n",
       "    </tr>\n",
       "    <tr>\n",
       "      <th>2</th>\n",
       "      <td>2003</td>\n",
       "      <td>eve@email.com</td>\n",
       "      <td>HEADPHONES</td>\n",
       "      <td>MISSING</td>\n",
       "      <td>4</td>\n",
       "      <td>NEW</td>\n",
       "      <td>NaN</td>\n",
       "    </tr>\n",
       "    <tr>\n",
       "      <th>3</th>\n",
       "      <td>2043</td>\n",
       "      <td>BOB@EMAIL.COM</td>\n",
       "      <td>Wireless Mouse</td>\n",
       "      <td>MISSING</td>\n",
       "      <td>5</td>\n",
       "      <td>Returning</td>\n",
       "      <td>NaN</td>\n",
       "    </tr>\n",
       "    <tr>\n",
       "      <th>4</th>\n",
       "      <td>2048</td>\n",
       "      <td>charlie@email.com</td>\n",
       "      <td>wireless mouse</td>\n",
       "      <td>67.49</td>\n",
       "      <td>4</td>\n",
       "      <td>NEW</td>\n",
       "      <td>NaN</td>\n",
       "    </tr>\n",
       "  </tbody>\n",
       "</table>\n",
       "</div>"
      ],
      "text/plain": [
       "   order_id    customer_email      Product_Name unit_price  qty  \\\n",
       "0      2034      eve@email.com   Wireless Mouse      77.67    1   \n",
       "1      2034      BOB@EMAIL.COM       phone case      55.00    3   \n",
       "2      2003      eve@email.com       HEADPHONES    MISSING    4   \n",
       "3      2043      BOB@EMAIL.COM   Wireless Mouse    MISSING    5   \n",
       "4      2048  charlie@email.com  wireless mouse       67.49    4   \n",
       "\n",
       "  customer_status order_date  \n",
       "0             NEW        NaN  \n",
       "1       returning        NaN  \n",
       "2             NEW        NaN  \n",
       "3       Returning        NaN  \n",
       "4             NEW        NaN  "
      ]
     },
     "execution_count": 11,
     "metadata": {},
     "output_type": "execute_result"
    }
   ],
   "source": [
    "df=pd.read_csv('datasets\\messy_order_assignment.csv')\n",
    "df.head()"
   ]
  },
  {
   "cell_type": "code",
   "execution_count": 12,
   "id": "34d3e4c3-5432-4368-bbf7-54d4d52ad1d0",
   "metadata": {},
   "outputs": [
    {
     "data": {
      "text/plain": [
       "0    77.67\n",
       "1    55.00\n",
       "2      NaN\n",
       "3      NaN\n",
       "4    67.49\n",
       "Name: unit_price, dtype: object"
      ]
     },
     "execution_count": 12,
     "metadata": {},
     "output_type": "execute_result"
    }
   ],
   "source": [
    "#  Replace 'MISSING' and '' with np.nan\n",
    "df['unit_price']=df['unit_price'].replace('MISSING',np.nan)\n",
    "df['unit_price'].head()\n"
   ]
  },
  {
   "cell_type": "code",
   "execution_count": 18,
   "id": "0c064da0-4fa6-4377-bc20-4647fdc135f4",
   "metadata": {},
   "outputs": [
    {
     "data": {
      "text/plain": [
       "0       77.67\n",
       "1       55.00\n",
       "2         NaN\n",
       "3         NaN\n",
       "4       67.49\n",
       "        ...  \n",
       "225     18.24\n",
       "226       NaN\n",
       "227       NaN\n",
       "228     57.39\n",
       "229    127.97\n",
       "Name: unit_price, Length: 230, dtype: float64"
      ]
     },
     "execution_count": 18,
     "metadata": {},
     "output_type": "execute_result"
    }
   ],
   "source": [
    "# Convert unit_price to numeric\n",
    "\n",
    "df['unit_price'] = pd.to_numeric(df['unit_price'])\n",
    "df['unit_price']"
   ]
  },
  {
   "cell_type": "code",
   "execution_count": 23,
   "id": "9e0f2b7f-5347-4de9-a48f-34c253fac45b",
   "metadata": {},
   "outputs": [],
   "source": [
    "# Fill missing prices with the median price \n",
    "df['unit_price']=pd.to_numeric(df['unit_price'])\n"
   ]
  },
  {
   "cell_type": "code",
   "execution_count": 24,
   "id": "045b1147-5337-4e99-b1a5-c1f6068426bc",
   "metadata": {},
   "outputs": [],
   "source": [
    "median_price=df['unit_price'].median()\n"
   ]
  },
  {
   "cell_type": "code",
   "execution_count": 25,
   "id": "ea1a4b69-ff0e-4ea5-b479-bef73097595c",
   "metadata": {},
   "outputs": [
    {
     "data": {
      "text/plain": [
       "0    77.67\n",
       "1    55.00\n",
       "2    82.48\n",
       "3    82.48\n",
       "4    67.49\n",
       "Name: unit_price, dtype: float64"
      ]
     },
     "execution_count": 25,
     "metadata": {},
     "output_type": "execute_result"
    }
   ],
   "source": [
    "df['unit_price']=df['unit_price'].fillna(median_price)\n",
    "df['unit_price'].head(5)"
   ]
  },
  {
   "cell_type": "code",
   "execution_count": 26,
   "id": "7f977466-b47a-4cf4-aee8-815f1f85723b",
   "metadata": {},
   "outputs": [],
   "source": [
    "# Fill missing dates using ffill  and  bfill\n",
    "df['order_date']=df['order_date'].ffill()"
   ]
  },
  {
   "cell_type": "code",
   "execution_count": 27,
   "id": "07e4faad-51b2-469c-97dc-726378607c0d",
   "metadata": {},
   "outputs": [],
   "source": [
    "df['order_date']=df['order_date'].bfill()"
   ]
  },
  {
   "cell_type": "code",
   "execution_count": 28,
   "id": "4ac4dcb0-f450-4a10-91bd-165f7666c14d",
   "metadata": {},
   "outputs": [
    {
     "name": "stdout",
     "output_type": "stream",
     "text": [
      "order_id            0\n",
      " customer_email     0\n",
      "Product_Name        0\n",
      "unit_price          0\n",
      "qty                 0\n",
      "customer_status     0\n",
      "order_date          0\n",
      "dtype: int64\n"
     ]
    }
   ],
   "source": [
    "print(df.isnull().sum())"
   ]
  },
  {
   "cell_type": "markdown",
   "id": "bb5a7b65-c421-46d0-b91c-c47bc19fce23",
   "metadata": {},
   "source": [
    "#### Fix inconsistent formatting"
   ]
  },
  {
   "cell_type": "code",
   "execution_count": 47,
   "id": "359bdcf5-399e-407b-8ddb-677877aa7c51",
   "metadata": {},
   "outputs": [
    {
     "name": "stdout",
     "output_type": "stream",
     "text": [
      "['order_id', ' customer_email ', 'Product Name', 'unit_price', 'qty', 'customer_status', 'order_date']\n"
     ]
    }
   ],
   "source": [
    "# Strip and title-case Product_Name\n",
    "df.rename(columns={'Product_Name': 'Product Name'}, inplace=True)\n",
    "print(df.columns.tolist())\n"
   ]
  },
  {
   "cell_type": "code",
   "execution_count": 48,
   "id": "f239e3d3-1da4-4a77-a603-d9517e9de1c3",
   "metadata": {},
   "outputs": [],
   "source": [
    "# Standardize customer_status to 'New' and 'Returning'\n",
    "df['customer_status']=df['customer_status'].str.lower()"
   ]
  },
  {
   "cell_type": "code",
   "execution_count": 49,
   "id": "8bba6c20-00b7-4e51-b04a-fd37560374e7",
   "metadata": {},
   "outputs": [],
   "source": [
    "df['customer_status']=df['customer_status'].map({\n",
    "    'new': 'New',\n",
    "    'returning': 'Returning'\n",
    "})"
   ]
  },
  {
   "cell_type": "code",
   "execution_count": 50,
   "id": "3758999c-0438-4d1a-98c7-a89be21b2a6a",
   "metadata": {},
   "outputs": [
    {
     "name": "stdout",
     "output_type": "stream",
     "text": [
      "['New' 'Returning']\n"
     ]
    }
   ],
   "source": [
    "print(df['customer_status'].unique())"
   ]
  },
  {
   "cell_type": "code",
   "execution_count": 55,
   "id": "83f0d5e3-f238-439c-91c4-398d5853a0d2",
   "metadata": {},
   "outputs": [
    {
     "ename": "KeyError",
     "evalue": "'customer_email'",
     "output_type": "error",
     "traceback": [
      "\u001b[1;31m---------------------------------------------------------------------------\u001b[0m",
      "\u001b[1;31mKeyError\u001b[0m                                  Traceback (most recent call last)",
      "File \u001b[1;32m~\\anaconda3\\Lib\\site-packages\\pandas\\core\\indexes\\base.py:3805\u001b[0m, in \u001b[0;36mIndex.get_loc\u001b[1;34m(self, key)\u001b[0m\n\u001b[0;32m   3804\u001b[0m \u001b[38;5;28;01mtry\u001b[39;00m:\n\u001b[1;32m-> 3805\u001b[0m     \u001b[38;5;28;01mreturn\u001b[39;00m \u001b[38;5;28mself\u001b[39m\u001b[38;5;241m.\u001b[39m_engine\u001b[38;5;241m.\u001b[39mget_loc(casted_key)\n\u001b[0;32m   3806\u001b[0m \u001b[38;5;28;01mexcept\u001b[39;00m \u001b[38;5;167;01mKeyError\u001b[39;00m \u001b[38;5;28;01mas\u001b[39;00m err:\n",
      "File \u001b[1;32mindex.pyx:167\u001b[0m, in \u001b[0;36mpandas._libs.index.IndexEngine.get_loc\u001b[1;34m()\u001b[0m\n",
      "File \u001b[1;32mindex.pyx:196\u001b[0m, in \u001b[0;36mpandas._libs.index.IndexEngine.get_loc\u001b[1;34m()\u001b[0m\n",
      "File \u001b[1;32mpandas\\\\_libs\\\\hashtable_class_helper.pxi:7081\u001b[0m, in \u001b[0;36mpandas._libs.hashtable.PyObjectHashTable.get_item\u001b[1;34m()\u001b[0m\n",
      "File \u001b[1;32mpandas\\\\_libs\\\\hashtable_class_helper.pxi:7089\u001b[0m, in \u001b[0;36mpandas._libs.hashtable.PyObjectHashTable.get_item\u001b[1;34m()\u001b[0m\n",
      "\u001b[1;31mKeyError\u001b[0m: 'customer_email'",
      "\nThe above exception was the direct cause of the following exception:\n",
      "\u001b[1;31mKeyError\u001b[0m                                  Traceback (most recent call last)",
      "Cell \u001b[1;32mIn[55], line 2\u001b[0m\n\u001b[0;32m      1\u001b[0m \u001b[38;5;66;03m# Lowercase all emails\u001b[39;00m\n\u001b[1;32m----> 2\u001b[0m df[\u001b[38;5;124m'\u001b[39m\u001b[38;5;124mcustomer_email\u001b[39m\u001b[38;5;124m'\u001b[39m] \u001b[38;5;241m=\u001b[39m df[\u001b[38;5;124m'\u001b[39m\u001b[38;5;124mcustomer_email\u001b[39m\u001b[38;5;124m'\u001b[39m]\u001b[38;5;241m.\u001b[39mstr\u001b[38;5;241m.\u001b[39mlower()\n\u001b[0;32m      5\u001b[0m df[\u001b[38;5;124m'\u001b[39m\u001b[38;5;124mcustomer_email\u001b[39m\u001b[38;5;124m'\u001b[39m]\u001b[38;5;241m.\u001b[39mhead(\u001b[38;5;241m5\u001b[39m)\n",
      "File \u001b[1;32m~\\anaconda3\\Lib\\site-packages\\pandas\\core\\frame.py:4102\u001b[0m, in \u001b[0;36mDataFrame.__getitem__\u001b[1;34m(self, key)\u001b[0m\n\u001b[0;32m   4100\u001b[0m \u001b[38;5;28;01mif\u001b[39;00m \u001b[38;5;28mself\u001b[39m\u001b[38;5;241m.\u001b[39mcolumns\u001b[38;5;241m.\u001b[39mnlevels \u001b[38;5;241m>\u001b[39m \u001b[38;5;241m1\u001b[39m:\n\u001b[0;32m   4101\u001b[0m     \u001b[38;5;28;01mreturn\u001b[39;00m \u001b[38;5;28mself\u001b[39m\u001b[38;5;241m.\u001b[39m_getitem_multilevel(key)\n\u001b[1;32m-> 4102\u001b[0m indexer \u001b[38;5;241m=\u001b[39m \u001b[38;5;28mself\u001b[39m\u001b[38;5;241m.\u001b[39mcolumns\u001b[38;5;241m.\u001b[39mget_loc(key)\n\u001b[0;32m   4103\u001b[0m \u001b[38;5;28;01mif\u001b[39;00m is_integer(indexer):\n\u001b[0;32m   4104\u001b[0m     indexer \u001b[38;5;241m=\u001b[39m [indexer]\n",
      "File \u001b[1;32m~\\anaconda3\\Lib\\site-packages\\pandas\\core\\indexes\\base.py:3812\u001b[0m, in \u001b[0;36mIndex.get_loc\u001b[1;34m(self, key)\u001b[0m\n\u001b[0;32m   3807\u001b[0m     \u001b[38;5;28;01mif\u001b[39;00m \u001b[38;5;28misinstance\u001b[39m(casted_key, \u001b[38;5;28mslice\u001b[39m) \u001b[38;5;129;01mor\u001b[39;00m (\n\u001b[0;32m   3808\u001b[0m         \u001b[38;5;28misinstance\u001b[39m(casted_key, abc\u001b[38;5;241m.\u001b[39mIterable)\n\u001b[0;32m   3809\u001b[0m         \u001b[38;5;129;01mand\u001b[39;00m \u001b[38;5;28many\u001b[39m(\u001b[38;5;28misinstance\u001b[39m(x, \u001b[38;5;28mslice\u001b[39m) \u001b[38;5;28;01mfor\u001b[39;00m x \u001b[38;5;129;01min\u001b[39;00m casted_key)\n\u001b[0;32m   3810\u001b[0m     ):\n\u001b[0;32m   3811\u001b[0m         \u001b[38;5;28;01mraise\u001b[39;00m InvalidIndexError(key)\n\u001b[1;32m-> 3812\u001b[0m     \u001b[38;5;28;01mraise\u001b[39;00m \u001b[38;5;167;01mKeyError\u001b[39;00m(key) \u001b[38;5;28;01mfrom\u001b[39;00m\u001b[38;5;250m \u001b[39m\u001b[38;5;21;01merr\u001b[39;00m\n\u001b[0;32m   3813\u001b[0m \u001b[38;5;28;01mexcept\u001b[39;00m \u001b[38;5;167;01mTypeError\u001b[39;00m:\n\u001b[0;32m   3814\u001b[0m     \u001b[38;5;66;03m# If we have a listlike key, _check_indexing_error will raise\u001b[39;00m\n\u001b[0;32m   3815\u001b[0m     \u001b[38;5;66;03m#  InvalidIndexError. Otherwise we fall through and re-raise\u001b[39;00m\n\u001b[0;32m   3816\u001b[0m     \u001b[38;5;66;03m#  the TypeError.\u001b[39;00m\n\u001b[0;32m   3817\u001b[0m     \u001b[38;5;28mself\u001b[39m\u001b[38;5;241m.\u001b[39m_check_indexing_error(key)\n",
      "\u001b[1;31mKeyError\u001b[0m: 'customer_email'"
     ]
    }
   ],
   "source": [
    "# Lowercase all emails\n",
    "df['customer_email'] = df['customer_email'].str.lower()\n",
    "\n",
    "\n",
    "\n"
   ]
  },
  {
   "cell_type": "code",
   "execution_count": null,
   "id": "eeaa518b-93a2-4340-b1b4-096525b7c22d",
   "metadata": {},
   "outputs": [],
   "source": []
  }
 ],
 "metadata": {
  "kernelspec": {
   "display_name": "Python 3 (ipykernel)",
   "language": "python",
   "name": "python3"
  },
  "language_info": {
   "codemirror_mode": {
    "name": "ipython",
    "version": 3
   },
   "file_extension": ".py",
   "mimetype": "text/x-python",
   "name": "python",
   "nbconvert_exporter": "python",
   "pygments_lexer": "ipython3",
   "version": "3.13.5"
  }
 },
 "nbformat": 4,
 "nbformat_minor": 5
}
