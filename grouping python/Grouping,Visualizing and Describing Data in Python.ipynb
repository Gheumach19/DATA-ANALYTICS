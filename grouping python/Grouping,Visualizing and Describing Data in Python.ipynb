{
 "cells": [
  {
   "cell_type": "code",
   "execution_count": null,
   "id": "341a2de5-bcbc-4257-9cc9-cbbb5b37c3f9",
   "metadata": {},
   "outputs": [],
   "source": [
    "import pandas as pd \n",
    "import numpy as np \n",
    "import matplotlib.pyplot as plt\n",
    "import seaborn as sns"
   ]
  },
  {
   "cell_type": "code",
   "execution_count": null,
   "id": "a0dd4bcb-ccaa-48eb-8cdf-79b28b3049f9",
   "metadata": {},
   "outputs": [
    {
     "data": {
      "text/html": [
       "<div>\n",
       "<style scoped>\n",
       "    .dataframe tbody tr th:only-of-type {\n",
       "        vertical-align: middle;\n",
       "    }\n",
       "\n",
       "    .dataframe tbody tr th {\n",
       "        vertical-align: top;\n",
       "    }\n",
       "\n",
       "    .dataframe thead th {\n",
       "        text-align: right;\n",
       "    }\n",
       "</style>\n",
       "<table border=\"1\" class=\"dataframe\">\n",
       "  <thead>\n",
       "    <tr style=\"text-align: right;\">\n",
       "      <th></th>\n",
       "      <th>region</th>\n",
       "      <th>product_category</th>\n",
       "      <th>sales_amount</th>\n",
       "      <th>quantity_sold</th>\n",
       "      <th>month</th>\n",
       "    </tr>\n",
       "  </thead>\n",
       "  <tbody>\n",
       "    <tr>\n",
       "      <th>0</th>\n",
       "      <td>East</td>\n",
       "      <td>Clothing</td>\n",
       "      <td>105.33</td>\n",
       "      <td>1</td>\n",
       "      <td>May</td>\n",
       "    </tr>\n",
       "    <tr>\n",
       "      <th>1</th>\n",
       "      <td>West</td>\n",
       "      <td>Home</td>\n",
       "      <td>59.94</td>\n",
       "      <td>9</td>\n",
       "      <td>Feb</td>\n",
       "    </tr>\n",
       "    <tr>\n",
       "      <th>2</th>\n",
       "      <td>North</td>\n",
       "      <td>Electronics</td>\n",
       "      <td>111.41</td>\n",
       "      <td>1</td>\n",
       "      <td>Mar</td>\n",
       "    </tr>\n",
       "    <tr>\n",
       "      <th>3</th>\n",
       "      <td>East</td>\n",
       "      <td>Electronics</td>\n",
       "      <td>118.32</td>\n",
       "      <td>3</td>\n",
       "      <td>Mar</td>\n",
       "    </tr>\n",
       "    <tr>\n",
       "      <th>4</th>\n",
       "      <td>East</td>\n",
       "      <td>Electronics</td>\n",
       "      <td>116.79</td>\n",
       "      <td>8</td>\n",
       "      <td>Apr</td>\n",
       "    </tr>\n",
       "  </tbody>\n",
       "</table>\n",
       "</div>"
      ],
      "text/plain": [
       "  region product_category  sales_amount  quantity_sold month\n",
       "0   East         Clothing        105.33              1   May\n",
       "1   West             Home         59.94              9   Feb\n",
       "2  North      Electronics        111.41              1   Mar\n",
       "3   East      Electronics        118.32              3   Mar\n",
       "4   East      Electronics        116.79              8   Apr"
      ]
     },
     "execution_count": 18,
     "metadata": {},
     "output_type": "execute_result"
    }
   ],
   "source": [
    "df= pd.read_csv('datasets/retail_data.csv')\n",
    "\n",
    "df.head()\n"
   ]
  },
  {
   "cell_type": "code",
   "execution_count": 17,
   "id": "739a59d9-7c4c-4793-967d-9da3209d9194",
   "metadata": {},
   "outputs": [
    {
     "data": {
      "text/plain": [
       "region\n",
       "East     7827.29\n",
       "North    7862.64\n",
       "South    6916.63\n",
       "West     8583.18\n",
       "Name: sales_amount, dtype: float64"
      ]
     },
     "execution_count": 17,
     "metadata": {},
     "output_type": "execute_result"
    }
   ],
   "source": [
    "sales_per_region= df.groupby('region')['sales_amount'].sum()\n",
    "sales_per_region"
   ]
  },
  {
   "cell_type": "code",
   "execution_count": 22,
   "id": "5c47aaf1-c4be-4f14-8f2d-1a2ff8c0a618",
   "metadata": {},
   "outputs": [
    {
     "data": {
      "text/html": [
       "<div>\n",
       "<style scoped>\n",
       "    .dataframe tbody tr th:only-of-type {\n",
       "        vertical-align: middle;\n",
       "    }\n",
       "\n",
       "    .dataframe tbody tr th {\n",
       "        vertical-align: top;\n",
       "    }\n",
       "\n",
       "    .dataframe thead th {\n",
       "        text-align: right;\n",
       "    }\n",
       "</style>\n",
       "<table border=\"1\" class=\"dataframe\">\n",
       "  <thead>\n",
       "    <tr style=\"text-align: right;\">\n",
       "      <th></th>\n",
       "      <th>sales_amount</th>\n",
       "    </tr>\n",
       "    <tr>\n",
       "      <th>product_category</th>\n",
       "      <th></th>\n",
       "    </tr>\n",
       "  </thead>\n",
       "  <tbody>\n",
       "    <tr>\n",
       "      <th>Books</th>\n",
       "      <td>5295.19</td>\n",
       "    </tr>\n",
       "    <tr>\n",
       "      <th>Clothing</th>\n",
       "      <td>8370.65</td>\n",
       "    </tr>\n",
       "    <tr>\n",
       "      <th>Electronics</th>\n",
       "      <td>9217.31</td>\n",
       "    </tr>\n",
       "    <tr>\n",
       "      <th>Home</th>\n",
       "      <td>8306.59</td>\n",
       "    </tr>\n",
       "  </tbody>\n",
       "</table>\n",
       "</div>"
      ],
      "text/plain": [
       "                  sales_amount\n",
       "product_category              \n",
       "Books                  5295.19\n",
       "Clothing               8370.65\n",
       "Electronics            9217.31\n",
       "Home                   8306.59"
      ]
     },
     "execution_count": 22,
     "metadata": {},
     "output_type": "execute_result"
    }
   ],
   "source": [
    "sales_per_product_category= df.groupby('product_category')[['sales_amount']].sum()\n",
    "sales_per_product_category"
   ]
  },
  {
   "cell_type": "code",
   "execution_count": 24,
   "id": "a445a363-c383-4f01-a371-bf6f4341706e",
   "metadata": {},
   "outputs": [
    {
     "data": {
      "text/html": [
       "<div>\n",
       "<style scoped>\n",
       "    .dataframe tbody tr th:only-of-type {\n",
       "        vertical-align: middle;\n",
       "    }\n",
       "\n",
       "    .dataframe tbody tr th {\n",
       "        vertical-align: top;\n",
       "    }\n",
       "\n",
       "    .dataframe thead th {\n",
       "        text-align: right;\n",
       "    }\n",
       "</style>\n",
       "<table border=\"1\" class=\"dataframe\">\n",
       "  <thead>\n",
       "    <tr style=\"text-align: right;\">\n",
       "      <th></th>\n",
       "      <th>sales_amount</th>\n",
       "    </tr>\n",
       "    <tr>\n",
       "      <th>month</th>\n",
       "      <th></th>\n",
       "    </tr>\n",
       "  </thead>\n",
       "  <tbody>\n",
       "    <tr>\n",
       "      <th>Apr</th>\n",
       "      <td>4411.59</td>\n",
       "    </tr>\n",
       "    <tr>\n",
       "      <th>Feb</th>\n",
       "      <td>4801.83</td>\n",
       "    </tr>\n",
       "    <tr>\n",
       "      <th>Jan</th>\n",
       "      <td>5247.66</td>\n",
       "    </tr>\n",
       "    <tr>\n",
       "      <th>Jun</th>\n",
       "      <td>5128.46</td>\n",
       "    </tr>\n",
       "    <tr>\n",
       "      <th>Mar</th>\n",
       "      <td>5301.25</td>\n",
       "    </tr>\n",
       "    <tr>\n",
       "      <th>May</th>\n",
       "      <td>6298.95</td>\n",
       "    </tr>\n",
       "  </tbody>\n",
       "</table>\n",
       "</div>"
      ],
      "text/plain": [
       "       sales_amount\n",
       "month              \n",
       "Apr         4411.59\n",
       "Feb         4801.83\n",
       "Jan         5247.66\n",
       "Jun         5128.46\n",
       "Mar         5301.25\n",
       "May         6298.95"
      ]
     },
     "execution_count": 24,
     "metadata": {},
     "output_type": "execute_result"
    }
   ],
   "source": [
    "sales_per_month=df.groupby('month')[['sales_amount']].sum()\n",
    "sales_per_month"
   ]
  },
  {
   "cell_type": "code",
   "execution_count": 25,
   "id": "0994277d-9b47-4f57-9a07-c7d8a32752bc",
   "metadata": {},
   "outputs": [
    {
     "data": {
      "text/html": [
       "<div>\n",
       "<style scoped>\n",
       "    .dataframe tbody tr th:only-of-type {\n",
       "        vertical-align: middle;\n",
       "    }\n",
       "\n",
       "    .dataframe tbody tr th {\n",
       "        vertical-align: top;\n",
       "    }\n",
       "\n",
       "    .dataframe thead th {\n",
       "        text-align: right;\n",
       "    }\n",
       "</style>\n",
       "<table border=\"1\" class=\"dataframe\">\n",
       "  <thead>\n",
       "    <tr style=\"text-align: right;\">\n",
       "      <th></th>\n",
       "      <th></th>\n",
       "      <th>sales_amount</th>\n",
       "    </tr>\n",
       "    <tr>\n",
       "      <th>region</th>\n",
       "      <th>product_category</th>\n",
       "      <th></th>\n",
       "    </tr>\n",
       "  </thead>\n",
       "  <tbody>\n",
       "    <tr>\n",
       "      <th rowspan=\"4\" valign=\"top\">East</th>\n",
       "      <th>Books</th>\n",
       "      <td>963.21</td>\n",
       "    </tr>\n",
       "    <tr>\n",
       "      <th>Clothing</th>\n",
       "      <td>2040.18</td>\n",
       "    </tr>\n",
       "    <tr>\n",
       "      <th>Electronics</th>\n",
       "      <td>2617.60</td>\n",
       "    </tr>\n",
       "    <tr>\n",
       "      <th>Home</th>\n",
       "      <td>2206.30</td>\n",
       "    </tr>\n",
       "    <tr>\n",
       "      <th rowspan=\"4\" valign=\"top\">North</th>\n",
       "      <th>Books</th>\n",
       "      <td>1121.29</td>\n",
       "    </tr>\n",
       "    <tr>\n",
       "      <th>Clothing</th>\n",
       "      <td>2273.95</td>\n",
       "    </tr>\n",
       "    <tr>\n",
       "      <th>Electronics</th>\n",
       "      <td>1976.14</td>\n",
       "    </tr>\n",
       "    <tr>\n",
       "      <th>Home</th>\n",
       "      <td>2491.26</td>\n",
       "    </tr>\n",
       "    <tr>\n",
       "      <th rowspan=\"4\" valign=\"top\">South</th>\n",
       "      <th>Books</th>\n",
       "      <td>1187.80</td>\n",
       "    </tr>\n",
       "    <tr>\n",
       "      <th>Clothing</th>\n",
       "      <td>1688.35</td>\n",
       "    </tr>\n",
       "    <tr>\n",
       "      <th>Electronics</th>\n",
       "      <td>2074.23</td>\n",
       "    </tr>\n",
       "    <tr>\n",
       "      <th>Home</th>\n",
       "      <td>1966.25</td>\n",
       "    </tr>\n",
       "    <tr>\n",
       "      <th rowspan=\"4\" valign=\"top\">West</th>\n",
       "      <th>Books</th>\n",
       "      <td>2022.89</td>\n",
       "    </tr>\n",
       "    <tr>\n",
       "      <th>Clothing</th>\n",
       "      <td>2368.17</td>\n",
       "    </tr>\n",
       "    <tr>\n",
       "      <th>Electronics</th>\n",
       "      <td>2549.34</td>\n",
       "    </tr>\n",
       "    <tr>\n",
       "      <th>Home</th>\n",
       "      <td>1642.78</td>\n",
       "    </tr>\n",
       "  </tbody>\n",
       "</table>\n",
       "</div>"
      ],
      "text/plain": [
       "                         sales_amount\n",
       "region product_category              \n",
       "East   Books                   963.21\n",
       "       Clothing               2040.18\n",
       "       Electronics            2617.60\n",
       "       Home                   2206.30\n",
       "North  Books                  1121.29\n",
       "       Clothing               2273.95\n",
       "       Electronics            1976.14\n",
       "       Home                   2491.26\n",
       "South  Books                  1187.80\n",
       "       Clothing               1688.35\n",
       "       Electronics            2074.23\n",
       "       Home                   1966.25\n",
       "West   Books                  2022.89\n",
       "       Clothing               2368.17\n",
       "       Electronics            2549.34\n",
       "       Home                   1642.78"
      ]
     },
     "execution_count": 25,
     "metadata": {},
     "output_type": "execute_result"
    }
   ],
   "source": [
    "detailed_summary=df.groupby(['region','product_category'])[['sales_amount']].sum()\n",
    "detailed_summary"
   ]
  },
  {
   "cell_type": "code",
   "execution_count": 26,
   "id": "bb9050db-4b2e-438d-a04f-ba5c0a5a68cb",
   "metadata": {},
   "outputs": [],
   "source": [
    "def sales_range(x):\n",
    "    return x.max() - x.min()"
   ]
  },
  {
   "cell_type": "code",
   "execution_count": 29,
   "id": "2109c909-d9e6-435e-972f-4358a2d2c950",
   "metadata": {},
   "outputs": [
    {
     "data": {
      "text/html": [
       "<div>\n",
       "<style scoped>\n",
       "    .dataframe tbody tr th:only-of-type {\n",
       "        vertical-align: middle;\n",
       "    }\n",
       "\n",
       "    .dataframe tbody tr th {\n",
       "        vertical-align: top;\n",
       "    }\n",
       "\n",
       "    .dataframe thead th {\n",
       "        text-align: right;\n",
       "    }\n",
       "</style>\n",
       "<table border=\"1\" class=\"dataframe\">\n",
       "  <thead>\n",
       "    <tr style=\"text-align: right;\">\n",
       "      <th></th>\n",
       "      <th>region</th>\n",
       "      <th>mean</th>\n",
       "      <th>sum</th>\n",
       "      <th>sales_range</th>\n",
       "    </tr>\n",
       "  </thead>\n",
       "  <tbody>\n",
       "    <tr>\n",
       "      <th>0</th>\n",
       "      <td>East</td>\n",
       "      <td>101.653117</td>\n",
       "      <td>7827.29</td>\n",
       "      <td>141.77</td>\n",
       "    </tr>\n",
       "    <tr>\n",
       "      <th>1</th>\n",
       "      <td>North</td>\n",
       "      <td>106.251892</td>\n",
       "      <td>7862.64</td>\n",
       "      <td>123.72</td>\n",
       "    </tr>\n",
       "    <tr>\n",
       "      <th>2</th>\n",
       "      <td>South</td>\n",
       "      <td>101.715147</td>\n",
       "      <td>6916.63</td>\n",
       "      <td>125.66</td>\n",
       "    </tr>\n",
       "    <tr>\n",
       "      <th>3</th>\n",
       "      <td>West</td>\n",
       "      <td>105.965185</td>\n",
       "      <td>8583.18</td>\n",
       "      <td>150.36</td>\n",
       "    </tr>\n",
       "  </tbody>\n",
       "</table>\n",
       "</div>"
      ],
      "text/plain": [
       "  region        mean      sum  sales_range\n",
       "0   East  101.653117  7827.29       141.77\n",
       "1  North  106.251892  7862.64       123.72\n",
       "2  South  101.715147  6916.63       125.66\n",
       "3   West  105.965185  8583.18       150.36"
      ]
     },
     "execution_count": 29,
     "metadata": {},
     "output_type": "execute_result"
    }
   ],
   "source": [
    "custom_aggregation=df.groupby('region')['sales_amount'].agg({'sum','mean', sales_range}).reset_index()\n",
    "custom_aggregation\n",
    "                                                            "
   ]
  },
  {
   "cell_type": "markdown",
   "id": "c2f99925-2f2b-48bf-a4d0-147aeea0a521",
   "metadata": {},
   "source": [
    "## pivot tables"
   ]
  },
  {
   "cell_type": "code",
   "execution_count": 32,
   "id": "f0bba50a-952f-444c-95ef-10eac64ff470",
   "metadata": {},
   "outputs": [
    {
     "data": {
      "text/html": [
       "<div>\n",
       "<style scoped>\n",
       "    .dataframe tbody tr th:only-of-type {\n",
       "        vertical-align: middle;\n",
       "    }\n",
       "\n",
       "    .dataframe tbody tr th {\n",
       "        vertical-align: top;\n",
       "    }\n",
       "\n",
       "    .dataframe thead th {\n",
       "        text-align: right;\n",
       "    }\n",
       "</style>\n",
       "<table border=\"1\" class=\"dataframe\">\n",
       "  <thead>\n",
       "    <tr style=\"text-align: right;\">\n",
       "      <th>product_category</th>\n",
       "      <th>Books</th>\n",
       "      <th>Clothing</th>\n",
       "      <th>Electronics</th>\n",
       "      <th>Home</th>\n",
       "    </tr>\n",
       "    <tr>\n",
       "      <th>region</th>\n",
       "      <th></th>\n",
       "      <th></th>\n",
       "      <th></th>\n",
       "      <th></th>\n",
       "    </tr>\n",
       "  </thead>\n",
       "  <tbody>\n",
       "    <tr>\n",
       "      <th>East</th>\n",
       "      <td>963.21</td>\n",
       "      <td>2040.18</td>\n",
       "      <td>2617.60</td>\n",
       "      <td>2206.30</td>\n",
       "    </tr>\n",
       "    <tr>\n",
       "      <th>North</th>\n",
       "      <td>1121.29</td>\n",
       "      <td>2273.95</td>\n",
       "      <td>1976.14</td>\n",
       "      <td>2491.26</td>\n",
       "    </tr>\n",
       "    <tr>\n",
       "      <th>South</th>\n",
       "      <td>1187.80</td>\n",
       "      <td>1688.35</td>\n",
       "      <td>2074.23</td>\n",
       "      <td>1966.25</td>\n",
       "    </tr>\n",
       "    <tr>\n",
       "      <th>West</th>\n",
       "      <td>2022.89</td>\n",
       "      <td>2368.17</td>\n",
       "      <td>2549.34</td>\n",
       "      <td>1642.78</td>\n",
       "    </tr>\n",
       "  </tbody>\n",
       "</table>\n",
       "</div>"
      ],
      "text/plain": [
       "product_category    Books  Clothing  Electronics     Home\n",
       "region                                                   \n",
       "East               963.21   2040.18      2617.60  2206.30\n",
       "North             1121.29   2273.95      1976.14  2491.26\n",
       "South             1187.80   1688.35      2074.23  1966.25\n",
       "West              2022.89   2368.17      2549.34  1642.78"
      ]
     },
     "execution_count": 32,
     "metadata": {},
     "output_type": "execute_result"
    }
   ],
   "source": [
    " pivot_sales= df.pivot_table(\n",
    "    values='sales_amount',\n",
    "    index='region',\n",
    "    columns='product_category',\n",
    "    aggfunc='sum',\n",
    "    fill_value=0\n",
    ")\n",
    "pivot_sales"
   ]
  },
  {
   "cell_type": "code",
   "execution_count": 33,
   "id": "1e7959ab-29b3-4115-802b-189f2c6bd2cb",
   "metadata": {},
   "outputs": [
    {
     "data": {
      "text/html": [
       "<div>\n",
       "<style scoped>\n",
       "    .dataframe tbody tr th:only-of-type {\n",
       "        vertical-align: middle;\n",
       "    }\n",
       "\n",
       "    .dataframe tbody tr th {\n",
       "        vertical-align: top;\n",
       "    }\n",
       "\n",
       "    .dataframe thead th {\n",
       "        text-align: right;\n",
       "    }\n",
       "</style>\n",
       "<table border=\"1\" class=\"dataframe\">\n",
       "  <thead>\n",
       "    <tr style=\"text-align: right;\">\n",
       "      <th>product_category</th>\n",
       "      <th>Books</th>\n",
       "      <th>Clothing</th>\n",
       "      <th>Electronics</th>\n",
       "      <th>Home</th>\n",
       "    </tr>\n",
       "    <tr>\n",
       "      <th>region</th>\n",
       "      <th></th>\n",
       "      <th></th>\n",
       "      <th></th>\n",
       "      <th></th>\n",
       "    </tr>\n",
       "  </thead>\n",
       "  <tbody>\n",
       "    <tr>\n",
       "      <th>East</th>\n",
       "      <td>11</td>\n",
       "      <td>22</td>\n",
       "      <td>24</td>\n",
       "      <td>20</td>\n",
       "    </tr>\n",
       "    <tr>\n",
       "      <th>North</th>\n",
       "      <td>11</td>\n",
       "      <td>23</td>\n",
       "      <td>18</td>\n",
       "      <td>22</td>\n",
       "    </tr>\n",
       "    <tr>\n",
       "      <th>South</th>\n",
       "      <td>13</td>\n",
       "      <td>16</td>\n",
       "      <td>21</td>\n",
       "      <td>18</td>\n",
       "    </tr>\n",
       "    <tr>\n",
       "      <th>West</th>\n",
       "      <td>19</td>\n",
       "      <td>21</td>\n",
       "      <td>24</td>\n",
       "      <td>17</td>\n",
       "    </tr>\n",
       "  </tbody>\n",
       "</table>\n",
       "</div>"
      ],
      "text/plain": [
       "product_category  Books  Clothing  Electronics  Home\n",
       "region                                              \n",
       "East                 11        22           24    20\n",
       "North                11        23           18    22\n",
       "South                13        16           21    18\n",
       "West                 19        21           24    17"
      ]
     },
     "execution_count": 33,
     "metadata": {},
     "output_type": "execute_result"
    }
   ],
   "source": [
    "quantity_sold_pivot= df.pivot_table(\n",
    "    values='quantity_sold',\n",
    "    index='region',\n",
    "    columns='product_category',\n",
    "    aggfunc='count',\n",
    "    fill_value=0\n",
    ")\n",
    "quantity_sold_pivot"
   ]
  },
  {
   "cell_type": "markdown",
   "id": "843bb92d-6b4a-4800-bd30-75df933f713c",
   "metadata": {},
   "source": [
    "### ranking and sorting"
   ]
  },
  {
   "cell_type": "code",
   "execution_count": 35,
   "id": "c77c95a5-a1a3-421a-bce4-f7b9e957bfba",
   "metadata": {},
   "outputs": [
    {
     "data": {
      "text/html": [
       "<div>\n",
       "<style scoped>\n",
       "    .dataframe tbody tr th:only-of-type {\n",
       "        vertical-align: middle;\n",
       "    }\n",
       "\n",
       "    .dataframe tbody tr th {\n",
       "        vertical-align: top;\n",
       "    }\n",
       "\n",
       "    .dataframe thead th {\n",
       "        text-align: right;\n",
       "    }\n",
       "</style>\n",
       "<table border=\"1\" class=\"dataframe\">\n",
       "  <thead>\n",
       "    <tr style=\"text-align: right;\">\n",
       "      <th></th>\n",
       "      <th>sales_amount</th>\n",
       "    </tr>\n",
       "    <tr>\n",
       "      <th>region</th>\n",
       "      <th></th>\n",
       "    </tr>\n",
       "  </thead>\n",
       "  <tbody>\n",
       "    <tr>\n",
       "      <th>West</th>\n",
       "      <td>8583.18</td>\n",
       "    </tr>\n",
       "    <tr>\n",
       "      <th>North</th>\n",
       "      <td>7862.64</td>\n",
       "    </tr>\n",
       "    <tr>\n",
       "      <th>East</th>\n",
       "      <td>7827.29</td>\n",
       "    </tr>\n",
       "    <tr>\n",
       "      <th>South</th>\n",
       "      <td>6916.63</td>\n",
       "    </tr>\n",
       "  </tbody>\n",
       "</table>\n",
       "</div>"
      ],
      "text/plain": [
       "        sales_amount\n",
       "region              \n",
       "West         8583.18\n",
       "North        7862.64\n",
       "East         7827.29\n",
       "South        6916.63"
      ]
     },
     "execution_count": 35,
     "metadata": {},
     "output_type": "execute_result"
    }
   ],
   "source": [
    "# top regions per sales\n",
    "top_sales_per_region=df.groupby('region')[['sales_amount']].sum().sort_values('sales_amount',ascending=False)\n",
    "top_sales_per_region"
   ]
  },
  {
   "cell_type": "code",
   "execution_count": 37,
   "id": "9d206875-635a-4220-8b45-6c5e57f9239b",
   "metadata": {},
   "outputs": [
    {
     "data": {
      "text/html": [
       "<div>\n",
       "<style scoped>\n",
       "    .dataframe tbody tr th:only-of-type {\n",
       "        vertical-align: middle;\n",
       "    }\n",
       "\n",
       "    .dataframe tbody tr th {\n",
       "        vertical-align: top;\n",
       "    }\n",
       "\n",
       "    .dataframe thead th {\n",
       "        text-align: right;\n",
       "    }\n",
       "</style>\n",
       "<table border=\"1\" class=\"dataframe\">\n",
       "  <thead>\n",
       "    <tr style=\"text-align: right;\">\n",
       "      <th></th>\n",
       "      <th>sales_amount</th>\n",
       "    </tr>\n",
       "    <tr>\n",
       "      <th>product_category</th>\n",
       "      <th></th>\n",
       "    </tr>\n",
       "  </thead>\n",
       "  <tbody>\n",
       "    <tr>\n",
       "      <th>Electronics</th>\n",
       "      <td>9217.31</td>\n",
       "    </tr>\n",
       "    <tr>\n",
       "      <th>Clothing</th>\n",
       "      <td>8370.65</td>\n",
       "    </tr>\n",
       "    <tr>\n",
       "      <th>Home</th>\n",
       "      <td>8306.59</td>\n",
       "    </tr>\n",
       "    <tr>\n",
       "      <th>Books</th>\n",
       "      <td>5295.19</td>\n",
       "    </tr>\n",
       "  </tbody>\n",
       "</table>\n",
       "</div>"
      ],
      "text/plain": [
       "                  sales_amount\n",
       "product_category              \n",
       "Electronics            9217.31\n",
       "Clothing               8370.65\n",
       "Home                   8306.59\n",
       "Books                  5295.19"
      ]
     },
     "execution_count": 37,
     "metadata": {},
     "output_type": "execute_result"
    }
   ],
   "source": [
    "# top categories by sales \n",
    "top_categories=df.groupby('product_category')[['sales_amount']].sum().sort_values('sales_amount',ascending=False)\n",
    "top_categories "
   ]
  },
  {
   "cell_type": "code",
   "execution_count": 40,
   "id": "a2a8271b-3c15-443c-bf82-2c8bc8d23a61",
   "metadata": {},
   "outputs": [
    {
     "data": {
      "text/plain": [
       "month\n",
       "May    106.761864\n",
       "Mar    106.025000\n",
       "Apr    105.037857\n",
       "Name: sales_amount, dtype: float64"
      ]
     },
     "execution_count": 40,
     "metadata": {},
     "output_type": "execute_result"
    }
   ],
   "source": [
    "# top 3 categories by average sales\n",
    "top_3_categories_by_average_sales=df.groupby('month')['sales_amount'].mean().nlargest(3)\n",
    "top_3_categories_by_average_sales"
   ]
  },
  {
   "cell_type": "markdown",
   "id": "cfe99b06-acf3-4aad-b71b-b05176e1ab23",
   "metadata": {},
   "source": [
    "### Practice Exercises - Part A\n"
   ]
  },
  {
   "cell_type": "code",
   "execution_count": 65,
   "id": "54d2eb41-4a47-4d5a-b75a-20d5ca6fec31",
   "metadata": {},
   "outputs": [
    {
     "data": {
      "text/plain": [
       "region\n",
       "East     319\n",
       "North    360\n",
       "South    348\n",
       "West     392\n",
       "Name: quantity_sold, dtype: int64"
      ]
     },
     "execution_count": 65,
     "metadata": {},
     "output_type": "execute_result"
    }
   ],
   "source": [
    "# 1. Total quantity sold by region\n",
    "total_quantity_sold_by_region=df.groupby('region')['quantity_sold'].sum()\n",
    "total_quantity_sold_by_region\n"
   ]
  },
  {
   "cell_type": "code",
   "execution_count": 69,
   "id": "62cdbdf7-22ed-4c11-b9be-12620e8adbec",
   "metadata": {},
   "outputs": [
    {
     "data": {
      "text/plain": [
       "product_category\n",
       "Books           98.059074\n",
       "Clothing       102.081098\n",
       "Electronics    105.946092\n",
       "Home           107.877792\n",
       "Name: sales_amount, dtype: float64"
      ]
     },
     "execution_count": 69,
     "metadata": {},
     "output_type": "execute_result"
    }
   ],
   "source": [
    "# 2. Average sales amount by category\n",
    "average_sales_amount_by_category=df.groupby('product_category')['sales_amount'].mean()\n",
    "average_sales_amount_by_category"
   ]
  },
  {
   "cell_type": "code",
   "execution_count": 70,
   "id": "6f59a884-ee62-433a-b46e-0925c92e60cd",
   "metadata": {},
   "outputs": [
    {
     "data": {
      "text/plain": [
       "month\n",
       "Apr    42\n",
       "Feb    48\n",
       "Jan    52\n",
       "Jun    49\n",
       "Mar    50\n",
       "May    59\n",
       "Name: sales_amount, dtype: int64"
      ]
     },
     "execution_count": 70,
     "metadata": {},
     "output_type": "execute_result"
    }
   ],
   "source": [
    "# 3. Count of transactions by month\n",
    "Count_of_transactions_by_month=df.groupby('month')['sales_amount'].count()\n",
    "Count_of_transactions_by_month"
   ]
  },
  {
   "cell_type": "code",
   "execution_count": 74,
   "id": "8248fe0c-b022-4900-9727-25783124c5b7",
   "metadata": {},
   "outputs": [
    {
     "data": {
      "text/html": [
       "<div>\n",
       "<style scoped>\n",
       "    .dataframe tbody tr th:only-of-type {\n",
       "        vertical-align: middle;\n",
       "    }\n",
       "\n",
       "    .dataframe tbody tr th {\n",
       "        vertical-align: top;\n",
       "    }\n",
       "\n",
       "    .dataframe thead th {\n",
       "        text-align: right;\n",
       "    }\n",
       "</style>\n",
       "<table border=\"1\" class=\"dataframe\">\n",
       "  <thead>\n",
       "    <tr style=\"text-align: right;\">\n",
       "      <th>month</th>\n",
       "      <th>Apr</th>\n",
       "      <th>Feb</th>\n",
       "      <th>Jan</th>\n",
       "      <th>Jun</th>\n",
       "      <th>Mar</th>\n",
       "      <th>May</th>\n",
       "    </tr>\n",
       "    <tr>\n",
       "      <th>region</th>\n",
       "      <th></th>\n",
       "      <th></th>\n",
       "      <th></th>\n",
       "      <th></th>\n",
       "      <th></th>\n",
       "      <th></th>\n",
       "    </tr>\n",
       "  </thead>\n",
       "  <tbody>\n",
       "    <tr>\n",
       "      <th>East</th>\n",
       "      <td>1063.22</td>\n",
       "      <td>1511.30</td>\n",
       "      <td>1380.58</td>\n",
       "      <td>577.62</td>\n",
       "      <td>1523.03</td>\n",
       "      <td>1771.54</td>\n",
       "    </tr>\n",
       "    <tr>\n",
       "      <th>North</th>\n",
       "      <td>1224.38</td>\n",
       "      <td>1133.47</td>\n",
       "      <td>1379.43</td>\n",
       "      <td>1378.15</td>\n",
       "      <td>983.36</td>\n",
       "      <td>1763.85</td>\n",
       "    </tr>\n",
       "    <tr>\n",
       "      <th>South</th>\n",
       "      <td>795.90</td>\n",
       "      <td>1152.31</td>\n",
       "      <td>1136.58</td>\n",
       "      <td>1115.71</td>\n",
       "      <td>832.56</td>\n",
       "      <td>1883.57</td>\n",
       "    </tr>\n",
       "    <tr>\n",
       "      <th>West</th>\n",
       "      <td>1328.09</td>\n",
       "      <td>1004.75</td>\n",
       "      <td>1351.07</td>\n",
       "      <td>2056.98</td>\n",
       "      <td>1962.30</td>\n",
       "      <td>879.99</td>\n",
       "    </tr>\n",
       "    <tr>\n",
       "      <th>Total</th>\n",
       "      <td>4411.59</td>\n",
       "      <td>4801.83</td>\n",
       "      <td>5247.66</td>\n",
       "      <td>5128.46</td>\n",
       "      <td>5301.25</td>\n",
       "      <td>6298.95</td>\n",
       "    </tr>\n",
       "  </tbody>\n",
       "</table>\n",
       "</div>"
      ],
      "text/plain": [
       "month       Apr      Feb      Jan      Jun      Mar      May\n",
       "region                                                      \n",
       "East    1063.22  1511.30  1380.58   577.62  1523.03  1771.54\n",
       "North   1224.38  1133.47  1379.43  1378.15   983.36  1763.85\n",
       "South    795.90  1152.31  1136.58  1115.71   832.56  1883.57\n",
       "West    1328.09  1004.75  1351.07  2056.98  1962.30   879.99\n",
       "Total   4411.59  4801.83  5247.66  5128.46  5301.25  6298.95"
      ]
     },
     "execution_count": 74,
     "metadata": {},
     "output_type": "execute_result"
    }
   ],
   "source": [
    "# Create a pivot table showing:\n",
    "# - Rows: region\n",
    "# - Columns: month\n",
    "# - Values: total sales_amount\n",
    "# - Add a row for totals\n",
    "\n",
    "pivot_table=df.pivot_table(\n",
    "    index='region',\n",
    "    columns='month',\n",
    "    values='sales_amount',\n",
    "    aggfunc='sum',\n",
    "    fill_value=0\n",
    ")\n",
    "pivot_table.loc['Total']=pivot_table.sum()\n",
    "pivot_table"
   ]
  },
  {
   "cell_type": "code",
   "execution_count": 80,
   "id": "4242a86a-c0a2-408f-a127-ecdef71e5a5f",
   "metadata": {},
   "outputs": [
    {
     "data": {
      "text/plain": [
       "region  product_category     \n",
       "East    Books             181    139.87\n",
       "                          183    121.27\n",
       "        Clothing          255    147.22\n",
       "                          41     142.28\n",
       "        Electronics       151    156.43\n",
       "                          187    154.03\n",
       "        Home              100    175.81\n",
       "                          244    151.83\n",
       "North   Books             185    143.20\n",
       "                          6      125.02\n",
       "        Clothing          287    134.82\n",
       "                          15     131.59\n",
       "        Electronics       82     146.43\n",
       "                          298    145.02\n",
       "        Home              67     173.66\n",
       "                          243    164.27\n",
       "South   Books             105    155.40\n",
       "                          294    129.89\n",
       "        Clothing          89     160.31\n",
       "                          95     153.84\n",
       "        Electronics       164    155.40\n",
       "                          282    134.46\n",
       "        Home              42     168.97\n",
       "                          230    139.52\n",
       "West    Books             83     153.88\n",
       "                          56     146.52\n",
       "        Clothing          129    164.90\n",
       "                          216    153.93\n",
       "        Electronics       232    162.26\n",
       "                          206    145.10\n",
       "        Home              46     147.39\n",
       "                          45     143.60\n",
       "Name: sales_amount, dtype: float64"
      ]
     },
     "execution_count": 80,
     "metadata": {},
     "output_type": "execute_result"
    }
   ],
   "source": [
    "# Find the top 2 region-category combinations by total sales\n",
    "top_2_region_category_by_total_sales=df.groupby(['region','product_category'])['sales_amount'].nlargest(2)\n",
    "top_2_region_category_by_total_sales"
   ]
  },
  {
   "cell_type": "markdown",
   "id": "39a23764-d6f0-41f6-9e61-7b9e8fdf8837",
   "metadata": {},
   "source": [
    "# Part B: Visualizing Data with Matplotlib & Seaborn"
   ]
  },
  {
   "cell_type": "markdown",
   "id": "f764a78e-a113-4cf8-99cc-3b7a7a3d896c",
   "metadata": {},
   "source": [
    "### Line Plots: Perfect for Trends Over Time"
   ]
  },
  {
   "cell_type": "code",
   "execution_count": 50,
   "id": "3c05e39f-6891-49ad-aa89-dbf27ce932d3",
   "metadata": {},
   "outputs": [
    {
     "data": {
      "text/plain": [
       "<function matplotlib.pyplot.show(close=None, block=None)>"
      ]
     },
     "execution_count": 50,
     "metadata": {},
     "output_type": "execute_result"
    },
    {
     "data": {
      "image/png": "[encoded data removed]",
      "text/plain": [
       "<Figure size 640x480 with 1 Axes>"
      ]
     },
     "metadata": {},
     "output_type": "display_data"
    },
    {
     "data": {
      "text/plain": [
       "<Figure size 1000x600 with 0 Axes>"
      ]
     },
     "metadata": {},
     "output_type": "display_data"
    }
   ],
   "source": [
    "sales_per_month=df.groupby('month')['sales_amount'].sum()\n",
    "plt.plot(sales_per_month.index,sales_per_month.values,color='green',marker='o')\n",
    "plt.title('Total Sales Per Month')\n",
    "plt.xlabel('Months')\n",
    "plt.ylabel('Sales')\n",
    "plt.figure(figsize=(10,6))\n",
    "plt.show"
   ]
  },
  {
   "cell_type": "markdown",
   "id": "9ff288cf-7f8d-4f35-8671-946a91272670",
   "metadata": {},
   "source": [
    "## Bar chart"
   ]
  },
  {
   "cell_type": "code",
   "execution_count": 56,
   "id": "873d7ed7-1aca-49d9-b719-a0e13f870cb8",
   "metadata": {},
   "outputs": [
    {
     "data": {
      "image/png": "[encoded data removed]",
      "text/plain": [
       "<Figure size 800x400 with 1 Axes>"
      ]
     },
     "metadata": {},
     "output_type": "display_data"
    }
   ],
   "source": [
    "sales_per_region=df.groupby('region')['sales_amount'].sum()\n",
    "plt.figure(figsize=(8,4))\n",
    "plt.bar(sales_per_region.index,sales_per_region.values)\n",
    "plt.title('Total Sales Per Region')\n",
    "plt.ylabel('Region')\n",
    "plt.xlabel('Total Sales')\n",
    "plt.show()"
   ]
  },
  {
   "cell_type": "code",
   "execution_count": 68,
   "id": "809cf27a-d087-48cd-86ae-88a359d29763",
   "metadata": {},
   "outputs": [
    {
     "data": {
      "image/png": "[encoded data removed]",
      "text/plain": [
       "<Figure size 800x400 with 1 Axes>"
      ]
     },
     "metadata": {},
     "output_type": "display_data"
    }
   ],
   "source": [
    "sales_per_region=df.groupby('region')['sales_amount'].sum()\n",
    "plt.figure(figsize=(8,4))\n",
    "plt.barh(sales_per_region.index,sales_per_region.values,color=[ '#4285F4', '#DB4437', '#F4B400', '#0F9D58'])\n",
    "plt.title('Total Sales Per Region')\n",
    "plt.ylabel('Region')\n",
    "plt.xlabel('Total Sales')\n",
    "plt.show()"
   ]
  },
  {
   "cell_type": "code",
   "execution_count": null,
   "id": "46d7f4f7-df90-47ec-b807-d88205040014",
   "metadata": {},
   "outputs": [],
   "source": []
  },
  {
   "cell_type": "code",
   "execution_count": null,
   "id": "21ea8427-9bc6-4a31-9fa1-0057296cef54",
   "metadata": {},
   "outputs": [],
   "source": [
    "sales_per_region=df.groupby('region')['sales_amount'].sum()\n",
    "plt.figure(figsize=(8,4))\n",
    "plt.bar(sales_per_region.index,sales_per_region.values)\n",
    "plt.title('Total Sales Per Region')\n",
    "plt.ylabel('Region')\n",
    "plt.xlabel('Total Sales')\n",
    "plt.show()"
   ]
  },
  {
   "cell_type": "code",
   "execution_count": null,
   "id": "f19f015e",
   "metadata": {},
   "outputs": [],
   "source": []
  },
  {
   "cell_type": "markdown",
   "id": "5b9cf67d",
   "metadata": {},
   "source": []
  },
  {
   "cell_type": "code",
   "execution_count": null,
   "id": "670bdd8c",
   "metadata": {},
   "outputs": [],
   "source": []
  },
  {
   "cell_type": "code",
   "execution_count": null,
   "id": "a0f0c352",
   "metadata": {},
   "outputs": [],
   "source": []
  },
  {
   "cell_type": "code",
   "execution_count": null,
   "id": "9a97e898",
   "metadata": {},
   "outputs": [],
   "source": []
  }
 ],
 "metadata": {
  "kernelspec": {
   "display_name": "Python 3 (ipykernel)",
   "language": "python",
   "name": "python3"
  },
  "language_info": {
   "codemirror_mode": {
    "name": "ipython",
    "version": 3
   },
   "file_extension": ".py",
   "mimetype": "text/x-python",
   "name": "python",
   "nbconvert_exporter": "python",
   "pygments_lexer": "ipython3",
   "version": "3.13.5"
  }
 },
 "nbformat": 4,
 "nbformat_minor": 5
}
